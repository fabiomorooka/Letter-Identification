{
 "cells": [
  {
   "cell_type": "markdown",
   "metadata": {},
   "source": [
    "# **Algorithme Letter detection**"
   ]
  },
  {
   "cell_type": "markdown",
   "metadata": {},
   "source": [
    "## **Introduction**\n",
    "\n",
    "This work "
   ]
  },
  {
   "cell_type": "code",
   "execution_count": 1,
   "metadata": {},
   "outputs": [],
   "source": [
    "import numpy as np\n",
    "import matplotlib.pyplot as plt\n",
    "import csv\n",
    "import cv2 as cv\n",
    "from scipy import ndimage\n",
    "import os"
   ]
  },
  {
   "cell_type": "code",
   "execution_count": 19,
   "metadata": {},
   "outputs": [],
   "source": [
    "class Digit:\n",
    "    def __init__(self, data, target):\n",
    "        self.target = target\n",
    "        self.width  = int(np.sqrt(len(data)))\n",
    "        self.image  = data.reshape(self.width, self.width)\n",
    "        self.features = {'var' : 0,\n",
    "                         'std' : 0,\n",
    "                         'mean_grad_M' : 0,\n",
    "                         'std_grad_M'  : 0,\n",
    "                         'mean_grad_D' : 0,\n",
    "                         'std_grad_D'  : 0,\n",
    "                         'mean_PC_X'   : 0,\n",
    "                         'std_PC_X'    : 0,\n",
    "                         'active_PC_X' : 0,\n",
    "                         'mean_PC_Y'   : 0,\n",
    "                         'std_PC_Y'    : 0,\n",
    "                         'active_PC_Y' : 0}\n",
    "        self.computeFeatures()\n",
    "    \n",
    "    def computeFeatures(self):\n",
    "        # Feature computation\n",
    "        mag, ang = sobel(self.image)\n",
    "        pcx, pcy = pixel_count(self.image)\n",
    "        \n",
    "        self.features['var'] = np.var(self.image)\n",
    "        self.features['std'] = np.std(self.image)\n",
    "        self.features['mean_grad_M'] = np.mean(mag)\n",
    "        self.features['std_grad_M'] =  np.std(mag)\n",
    "        self.features['mean_grad_D'] = np.mean(ang)\n",
    "        self.features['std_grad_D'] =  np.std(ang)\n",
    "        self.features['mean_PC_X'] =   np.mean(pcx)\n",
    "        self.features['std_PC_X'] =    np.std(pcx)\n",
    "        self.features['active_PC_X'] = np.count_nonzero(pcx)\n",
    "        self.features['mean_PC_Y'] =   np.mean(pcy)\n",
    "        self.features['std_PC_Y'] =    np.std(pcy)\n",
    "        self.features['active_PC_Y'] = np.count_nonzero(pcy) \n",
    "  \n",
    "    def __print__(self):\n",
    "        print(\"Digit target: \"+str(self.target))\n",
    "        print(\"Digit features:\")\n",
    "        print(self.features)\n",
    "        print(\"Digit image:\")\n",
    "        path_image = os.getcwd() + \"/\" + str(self.target) + \".jpg\"\n",
    "        print path_image\n",
    "        plt.gray()\n",
    "        plt.matshow(self.image) \n",
    "        \n",
    "        plt.imsave(path_image,self.image)\n",
    "        plt.show() "
   ]
  },
  {
   "cell_type": "markdown",
   "metadata": {},
   "source": [
    "#### **Feature extraction functions**\n"
   ]
  },
  {
   "cell_type": "code",
   "execution_count": 3,
   "metadata": {},
   "outputs": [],
   "source": [
    "def sobel(image):\n",
    "    w = len(image)\n",
    "    kernel_x = np.array([ [ 1, 0,-1],\n",
    "                          [ 2, 0,-2],\n",
    "                          [ 1, 0,-1] ])\n",
    "\n",
    "    kernel_y = np.array([ [ 1, 2, 1],\n",
    "                          [ 0, 0, 0],\n",
    "                          [-1,-2,-1] ])\n",
    "    \n",
    "    grad_x = np.zeros([w - 2, w - 2])\n",
    "    grad_y = np.zeros([w - 2, w - 2])\n",
    "    \n",
    "    for i in range(w - 2):\n",
    "        for j in range(w - 2):\n",
    "            grad_x[i, j] = sum(sum(image[i : i + 3, j : j + 3] * kernel_x))\n",
    "            grad_y[i, j] = sum(sum(image[i : i + 3, j : j + 3] * kernel_y))\n",
    "            if grad_x[i, j] == 0:\n",
    "                grad_x[i, j] = 0.000001\n",
    "    \n",
    "    mag = np.sqrt(grad_y ** 2 + grad_x ** 2)\n",
    "    ang = np.arctan(grad_y / (grad_x + np.finfo(float).eps))\n",
    "  \n",
    "    # Gradient computation\n",
    "  \n",
    "    return [mag,ang]\n",
    "\n",
    "def pixel_count(image):\n",
    "    pc_x = np.zeros(len(image))\n",
    "    pc_y = np.zeros(len(image))\n",
    "  \n",
    "    # Pixel count computation\n",
    "    for i in range(len(image)):\n",
    "        pc_x[i] = np.count_nonzero(image[i, :])\n",
    "        pc_y[i] = np.count_nonzero(image[:, i])\n",
    "\n",
    "    return [pc_x, pc_y]"
   ]
  },
  {
   "cell_type": "code",
   "execution_count": 16,
   "metadata": {},
   "outputs": [],
   "source": [
    "class Dataset:\n",
    "    def __init__(self, filename, length):  \n",
    "        self.filename = filename\n",
    "        if length == -1:\n",
    "            with open(self.filename, 'r') as csvfile:\n",
    "                spamreader = csv.reader(csvfile, delimiter=',', quotechar='|', quoting=csv.QUOTE_NONNUMERIC) \n",
    "                self.length = sum(1 for row in spamreader)\n",
    "        else: \n",
    "            self.length = length\n",
    "            self.digits = []\n",
    "        self.digits = self.createDigits()\n",
    "        self.raw_features = [[float(f) for f in dig.features.values()] for dig in self.digits]\n",
    "        self.raw_targets  = [[self.digits[i].target] for i in range(self.length)]\n",
    "  \n",
    "    def createDigits(self):\n",
    "        # Parse the csv file row by row and create Digits on the fly\n",
    "        digits = []\n",
    "        with open(self.filename, 'r') as csvfile:\n",
    "            spamreader = csv.reader(csvfile, delimiter = ',', quotechar = '|', quoting = csv.QUOTE_NONNUMERIC)\n",
    "            for i, row in enumerate(spamreader):\n",
    "                if i == self.length: break\n",
    "                digits.append(Digit(np.array(row[:-1]), row[-1]))\n",
    "                \n",
    "        return digits\n",
    "    "
   ]
  },
  {
   "cell_type": "markdown",
   "metadata": {},
   "source": [
    "#### **Image Generation**\n",
    "\n",
    "Just to change the image format, color, etc..."
   ]
  },
  {
   "cell_type": "code",
   "execution_count": 5,
   "metadata": {},
   "outputs": [
    {
     "ename": "OSError",
     "evalue": "[Errno 2] No such file or directory: '/home/morooka/Bureau/letterIdentification/chiffres/Numero6/'",
     "output_type": "error",
     "traceback": [
      "\u001b[0;31m-----------------------------------------------------------------------\u001b[0m",
      "\u001b[0;31mOSError\u001b[0m                               Traceback (most recent call last)",
      "\u001b[0;32m<ipython-input-5-0516a23a4104>\u001b[0m in \u001b[0;36m<module>\u001b[0;34m()\u001b[0m\n\u001b[1;32m     10\u001b[0m \u001b[0;34m\u001b[0m\u001b[0m\n\u001b[1;32m     11\u001b[0m \u001b[0mimage_list\u001b[0m \u001b[0;34m=\u001b[0m \u001b[0;34m[\u001b[0m\u001b[0;34m]\u001b[0m\u001b[0;34m\u001b[0m\u001b[0;34m\u001b[0m\u001b[0m\n\u001b[0;32m---> 12\u001b[0;31m \u001b[0;32mfor\u001b[0m \u001b[0mx\u001b[0m \u001b[0;32min\u001b[0m \u001b[0mos\u001b[0m\u001b[0;34m.\u001b[0m\u001b[0mlistdir\u001b[0m\u001b[0;34m(\u001b[0m\u001b[0mimage_path_chiffre\u001b[0m\u001b[0;34m)\u001b[0m\u001b[0;34m:\u001b[0m\u001b[0;34m\u001b[0m\u001b[0;34m\u001b[0m\u001b[0m\n\u001b[0m\u001b[1;32m     13\u001b[0m     \u001b[0mpath_image\u001b[0m \u001b[0;34m=\u001b[0m \u001b[0mimage_path_chiffre\u001b[0m \u001b[0;34m+\u001b[0m \u001b[0mx\u001b[0m\u001b[0;34m\u001b[0m\u001b[0;34m\u001b[0m\u001b[0m\n\u001b[1;32m     14\u001b[0m     \u001b[0mim\u001b[0m \u001b[0;34m=\u001b[0m \u001b[0mcv\u001b[0m\u001b[0;34m.\u001b[0m\u001b[0mimread\u001b[0m\u001b[0;34m(\u001b[0m\u001b[0mpath_image\u001b[0m\u001b[0;34m,\u001b[0m \u001b[0;36m0\u001b[0m\u001b[0;34m)\u001b[0m\u001b[0;34m\u001b[0m\u001b[0;34m\u001b[0m\u001b[0m\n",
      "\u001b[0;31mOSError\u001b[0m: [Errno 2] No such file or directory: '/home/morooka/Bureau/letterIdentification/chiffres/Numero6/'"
     ]
    }
   ],
   "source": [
    "image_path_1 = os.getcwd() + '/chiffres/Numero1/'\n",
    "image_path_2 = os.getcwd() + '/chiffres/Numero2/'\n",
    "image_path_3 = os.getcwd() + '/chiffres/Numero3/'\n",
    "image_path_4 = os.getcwd() + '/chiffres/Numero4/'\n",
    "image_path_5 = os.getcwd() + '/chiffres/Numero5/'\n",
    "image_path_6 = os.getcwd() + '/chiffres/Numero6/'\n",
    "\n",
    "image_path_chiffre = image_path_6\n",
    "chiffre = image_path_chiffre[-2]\n",
    "\n",
    "image_list = []\n",
    "for x in os.listdir(image_path_chiffre):\n",
    "    path_image = image_path_chiffre + x\n",
    "    im = cv.imread(path_image, 0)\n",
    "    image_list.append(im)\n",
    "    \n",
    "if os.path.isfile('test.csv'):\n",
    "    os.remove('test.csv')\n",
    "else:\n",
    "    print 'file does not exist'\n",
    "    \n",
    "for im in image_list:\n",
    "\n",
    "    inutile, thresh = cv.threshold(im, 225, 255, cv.THRESH_BINARY_INV)\n",
    "    imgBGR = cv.cvtColor(im, cv.COLOR_GRAY2BGR)\n",
    "\n",
    "    #imgray = cv.cvtColor(im, cv.COLOR_BGR2GRAY)\n",
    "    #ret2, thresh = cv.threshold(im[1::], 127, 255, cv.THRESH_BINARY + cv.THRESH_OTSU)\n",
    "\n",
    "    #imgray = cv.cvtColor(im, cv.COLOR_BGR2GRAY)\n",
    "    #ret, thresh = cv.threshold(imgray, 127, 255, 0)\n",
    "    contours, hierarchy = cv.findContours(thresh, cv.RETR_TREE, cv.CHAIN_APPROX_SIMPLE)\n",
    "    #plt.imshow(im, cmap='gray')\n",
    "\n",
    "    size=len(contours)\n",
    "    for i in range(0,size):\n",
    "        #Calcul de l'aire de la zone\n",
    "        diceContourArea = cv.contourArea(contours[i])\n",
    "        #print(diceContourArea)\n",
    "        if diceContourArea>20 and diceContourArea<250:\n",
    "            #print(diceContourArea)\n",
    "\n",
    "            #rect = cv.minAreaRect(contours[i])\n",
    "            #box = cv.boxPoints(rect)\n",
    "            #box = np.int0(box)\n",
    "            #cv.drawContours(imgBGR,[box],0,(0,0,255),2)\n",
    "\n",
    "            x,y,w,h=cv.boundingRect(contours[i])#calcul des coordonnées de la zone\n",
    "            cv.rectangle(imgBGR,(x,y),(x+w,y+h),(255,255,0),2)#affiche les rectangles sur l'image binaire\n",
    "            diceROI = thresh[y-2:y+h+2,x-2:x+w+2]#extraction de la zone sur l'image\n",
    "\n",
    "    #inutile, threshFinal = cv.threshold(imgBGR, 225, 255, cv.THRESH_BINARY_INV)        \n",
    "\n",
    "    #inutile2, threshFinal = cv.threshold(diceROI, 225, 255, cv.THRESH_BINARY_INV)   \n",
    "    #plt.imshow(diceROI, cmap='gray')\n",
    "\n",
    "    #print int(ndimage.measurements.center_of_mass(diceROI)[0])\n",
    "    #print int(ndimage.measurements.center_of_mass(diceROI)[1])\n",
    "\n",
    "    centre_h, centre_w = ndimage.measurements.center_of_mass(diceROI)\n",
    "    h, w = diceROI.shape\n",
    "    n = 56\n",
    "    black_image = np.zeros((n,n))\n",
    "    \n",
    "    # print black_image.shape\n",
    "\n",
    "    black_image[int((n-h)/2):int(((n-h)/2)+h),int((n-w)/2):int(((n-w)/2)+w)] = diceROI \n",
    "\n",
    "\n",
    "    #plt.imshow(black_image, cmap='gray')\n",
    "    scale_percent = 50 # percent of original size\n",
    "    width = int(black_image.shape[1] * scale_percent / 100)\n",
    "    height = int(black_image.shape[0] * scale_percent / 100)\n",
    "    dim = (width, height)\n",
    "    # resize image\n",
    "    resized = cv.resize(black_image, dim, interpolation = cv.INTER_AREA)\n",
    "    #sortie = cv.resize(diceROI, None, fx = int(diceROI.shape[0]/20), fy = int(diceROI.shape[1]/20), interpolation = cv.INTER_CUBIC)\n",
    "\n",
    "\n",
    "    A = np.asarray(resized).reshape(-1)\n",
    "\n",
    "    row = []\n",
    "    for result in A:\n",
    "        row.append(result)\n",
    "\n",
    "    row.append(float(chiffre))\n",
    "    \n",
    "    with open('test.csv', \"a\") as file:\n",
    "        writer = csv.writer(file)\n",
    "        writer.writerow(row)\n",
    "\n",
    "if os.path.isfile('test.csv'):\n",
    "    print \"END\"\n",
    "else:\n",
    "    print 'file does not exist'  \n"
   ]
  },
  {
   "cell_type": "markdown",
   "metadata": {},
   "source": [
    "#### **Dataset Generation**\n",
    "\n",
    "Considering the long time necessary to compute the features of the entire dataset, it is recommended to only use a small part of the given csv file, although a large enough training set is necessary to train the model. The recommended values are 1800 and 600 for the training and testing sets, respectively."
   ]
  },
  {
   "cell_type": "code",
   "execution_count": 11,
   "metadata": {},
   "outputs": [],
   "source": [
    "import csv\n",
    "import matplotlib.pyplot as plt \n",
    "import numpy as np\n",
    "\n",
    "def read_csv(filename):\n",
    "    labels = []\n",
    "    letters = []\n",
    "    with open(filename, 'r') as csvfile:\n",
    "        spamreader = csv.reader(csvfile, delimiter=',', quotechar='|', quoting=csv.QUOTE_NONNUMERIC) \n",
    "        for row in spamreader:\n",
    "            labels.append(row[-1])\n",
    "            letters.append(np.array(row[:-1]))\n",
    "           \n",
    "    return labels, letters      "
   ]
  },
  {
   "cell_type": "code",
   "execution_count": 14,
   "metadata": {},
   "outputs": [],
   "source": [
    "label_test, img_test = read_csv(\"emnist_test.csv\")\n"
   ]
  },
  {
   "cell_type": "code",
   "execution_count": 22,
   "metadata": {},
   "outputs": [
    {
     "name": "stdout",
     "output_type": "stream",
     "text": [
      "2.0\n",
      "2.0\n",
      "2.0\n",
      "2.0\n",
      "2.0\n",
      "2.0\n",
      "2.0\n",
      "2.0\n",
      "2.0\n",
      "2.0\n"
     ]
    },
    {
     "data": {
      "image/png": "[encoded data removed]",
      "text/plain": [
       "<Figure size 288x288 with 1 Axes>"
      ]
     },
     "metadata": {
      "needs_background": "light"
     },
     "output_type": "display_data"
    },
    {
     "data": {
      "image/png": "[encoded data removed]",
      "text/plain": [
       "<Figure size 288x288 with 1 Axes>"
      ]
     },
     "metadata": {
      "needs_background": "light"
     },
     "output_type": "display_data"
    },
    {
     "data": {
      "image/png": "[encoded data removed]",
      "text/plain": [
       "<Figure size 288x288 with 1 Axes>"
      ]
     },
     "metadata": {
      "needs_background": "light"
     },
     "output_type": "display_data"
    },
    {
     "data": {
      "image/png": "[encoded data removed]",
      "text/plain": [
       "<Figure size 288x288 with 1 Axes>"
      ]
     },
     "metadata": {
      "needs_background": "light"
     },
     "output_type": "display_data"
    },
    {
     "data": {
      "image/png": "[encoded data removed]",
      "text/plain": [
       "<Figure size 288x288 with 1 Axes>"
      ]
     },
     "metadata": {
      "needs_background": "light"
     },
     "output_type": "display_data"
    },
    {
     "data": {
      "image/png": "[encoded data removed]",
      "text/plain": [
       "<Figure size 288x288 with 1 Axes>"
      ]
     },
     "metadata": {
      "needs_background": "light"
     },
     "output_type": "display_data"
    },
    {
     "data": {
      "image/png": "[encoded data removed]",
      "text/plain": [
       "<Figure size 288x288 with 1 Axes>"
      ]
     },
     "metadata": {
      "needs_background": "light"
     },
     "output_type": "display_data"
    },
    {
     "data": {
      "image/png": "[encoded data removed]",
      "text/plain": [
       "<Figure size 288x288 with 1 Axes>"
      ]
     },
     "metadata": {
      "needs_background": "light"
     },
     "output_type": "display_data"
    },
    {
     "data": {
      "image/png": "[encoded data removed]",
      "text/plain": [
       "<Figure size 288x288 with 1 Axes>"
      ]
     },
     "metadata": {
      "needs_background": "light"
     },
     "output_type": "display_data"
    },
    {
     "data": {
      "image/png": "[encoded data removed]",
      "text/plain": [
       "<Figure size 288x288 with 1 Axes>"
      ]
     },
     "metadata": {
      "needs_background": "light"
     },
     "output_type": "display_data"
    }
   ],
   "source": [
    "for i in range(1000,1010):\n",
    "    width  = int(np.sqrt(len(img_test[i])))\n",
    "    image  = img_test[i].reshape(width, width)\n",
    "    print label_test[i]\n",
    "    #print img_test[i]\n",
    "    plt.matshow(image, cmap = \"gray\")"
   ]
  },
  {
   "cell_type": "code",
   "execution_count": 20,
   "metadata": {},
   "outputs": [
    {
     "name": "stdout",
     "output_type": "stream",
     "text": [
      "Creating training set\n",
      "120000\n",
      "12000\n",
      "\n",
      "Creating testing set\n",
      "20500\n",
      "4100\n",
      "\n",
      "Finished creating datasets\n"
     ]
    }
   ],
   "source": [
    "print(\"Creating training set\")\n",
    "with open(\"emnist_train.csv\") as f:\n",
    "    lines = sum(1 for line in f)\n",
    "    print lines \n",
    "    \n",
    "print int(0.1*lines)\n",
    "\n",
    "#training_set = Dataset(\"emnist_train.csv\",int(0.01*lines))\n",
    "\n",
    "print(\"\\nCreating testing set\")\n",
    "with open(\"emnist_test.csv\") as f:\n",
    "    lines = sum(1 for line in f)\n",
    "    print lines \n",
    "    \n",
    "print int(0.2*lines)\n",
    "#testing_set = Dataset(\"emnist_test.csv\", int(0.02 * lines))\n",
    "\n",
    "print \"\\nFinished creating datasets\""
   ]
  },
  {
   "cell_type": "code",
   "execution_count": 7,
   "metadata": {},
   "outputs": [
    {
     "name": "stdout",
     "output_type": "stream",
     "text": [
      "Creating new testing set\n"
     ]
    },
    {
     "ename": "IOError",
     "evalue": "[Errno 2] No such file or directory: 'test.csv'",
     "output_type": "error",
     "traceback": [
      "\u001b[0;31m-----------------------------------------------------------------------\u001b[0m",
      "\u001b[0;31mIOError\u001b[0m                               Traceback (most recent call last)",
      "\u001b[0;32m<ipython-input-7-3c50dc29d069>\u001b[0m in \u001b[0;36m<module>\u001b[0;34m()\u001b[0m\n\u001b[1;32m      1\u001b[0m \u001b[0;32mprint\u001b[0m\u001b[0;34m(\u001b[0m\u001b[0;34m\"Creating new testing set\"\u001b[0m\u001b[0;34m)\u001b[0m\u001b[0;34m\u001b[0m\u001b[0;34m\u001b[0m\u001b[0m\n\u001b[1;32m      2\u001b[0m \u001b[0;34m\u001b[0m\u001b[0m\n\u001b[0;32m----> 3\u001b[0;31m \u001b[0;32mwith\u001b[0m \u001b[0mopen\u001b[0m\u001b[0;34m(\u001b[0m\u001b[0;34m'test.csv'\u001b[0m\u001b[0;34m)\u001b[0m \u001b[0;32mas\u001b[0m \u001b[0mf\u001b[0m\u001b[0;34m:\u001b[0m\u001b[0;34m\u001b[0m\u001b[0;34m\u001b[0m\u001b[0m\n\u001b[0m\u001b[1;32m      4\u001b[0m     \u001b[0mlines\u001b[0m \u001b[0;34m=\u001b[0m \u001b[0msum\u001b[0m\u001b[0;34m(\u001b[0m\u001b[0;36m1\u001b[0m \u001b[0;32mfor\u001b[0m \u001b[0mline\u001b[0m \u001b[0;32min\u001b[0m \u001b[0mf\u001b[0m\u001b[0;34m)\u001b[0m\u001b[0;34m\u001b[0m\u001b[0;34m\u001b[0m\u001b[0m\n\u001b[1;32m      5\u001b[0m \u001b[0;34m\u001b[0m\u001b[0m\n",
      "\u001b[0;31mIOError\u001b[0m: [Errno 2] No such file or directory: 'test.csv'"
     ]
    }
   ],
   "source": [
    "print(\"Creating new testing set\")\n",
    "\n",
    "with open('test.csv') as f:\n",
    "    lines = sum(1 for line in f)\n",
    "    \n",
    "new_testing_set = Dataset(\"test.csv\",lines)\n",
    "print new_testing_set"
   ]
  },
  {
   "cell_type": "code",
   "execution_count": 8,
   "metadata": {},
   "outputs": [
    {
     "ename": "NameError",
     "evalue": "name 'new_testing_set' is not defined",
     "output_type": "error",
     "traceback": [
      "\u001b[0;31m-----------------------------------------------------------------------\u001b[0m",
      "\u001b[0;31mNameError\u001b[0m                             Traceback (most recent call last)",
      "\u001b[0;32m<ipython-input-8-ecdcb13a7f6e>\u001b[0m in \u001b[0;36m<module>\u001b[0;34m()\u001b[0m\n\u001b[1;32m     10\u001b[0m \u001b[0mXtrain\u001b[0m\u001b[0;34m,\u001b[0m \u001b[0mYtrain\u001b[0m \u001b[0;34m=\u001b[0m \u001b[0mcvt_obj_nparray\u001b[0m\u001b[0;34m(\u001b[0m\u001b[0mtraining_set\u001b[0m\u001b[0;34m)\u001b[0m\u001b[0;34m\u001b[0m\u001b[0;34m\u001b[0m\u001b[0m\n\u001b[1;32m     11\u001b[0m \u001b[0mXtest\u001b[0m\u001b[0;34m,\u001b[0m \u001b[0mYtest\u001b[0m \u001b[0;34m=\u001b[0m \u001b[0mcvt_obj_nparray\u001b[0m\u001b[0;34m(\u001b[0m\u001b[0mtesting_set\u001b[0m\u001b[0;34m)\u001b[0m\u001b[0;34m\u001b[0m\u001b[0;34m\u001b[0m\u001b[0m\n\u001b[0;32m---> 12\u001b[0;31m \u001b[0mXtrain2\u001b[0m\u001b[0;34m,\u001b[0m \u001b[0mYtrain2\u001b[0m \u001b[0;34m=\u001b[0m \u001b[0mcvt_obj_nparray\u001b[0m\u001b[0;34m(\u001b[0m\u001b[0mnew_testing_set\u001b[0m\u001b[0;34m)\u001b[0m\u001b[0;34m\u001b[0m\u001b[0;34m\u001b[0m\u001b[0m\n\u001b[0m",
      "\u001b[0;31mNameError\u001b[0m: name 'new_testing_set' is not defined"
     ]
    }
   ],
   "source": [
    "def cvt_obj_nparray(dataset):\n",
    "    X = np.zeros((dataset.length, 12))\n",
    "    Y = np.zeros((dataset.length,))\n",
    "    for i, digit in enumerate(dataset.digits):\n",
    "        Y[i] = digit.target\n",
    "        for j, feature in enumerate(digit.features):\n",
    "            X[i, j] = digit.features[feature]\n",
    "    return X, Y\n",
    "\n",
    "Xtrain, Ytrain = cvt_obj_nparray(training_set)\n",
    "Xtest, Ytest = cvt_obj_nparray(testing_set)\n",
    "Xtrain2, Ytrain2 = cvt_obj_nparray(new_testing_set)"
   ]
  },
  {
   "cell_type": "markdown",
   "metadata": {},
   "source": [
    "##### **Feature computation verification**\n",
    "\n",
    "Verify that the features have been correctly computed before continuing the lab."
   ]
  },
  {
   "cell_type": "code",
   "execution_count": 22,
   "metadata": {},
   "outputs": [
    {
     "name": "stdout",
     "output_type": "stream",
     "text": [
      "Digit target: 23.0\n",
      "Digit features:\n",
      "{'std_grad_M': 315.30237515227503, 'mean_grad_D': -0.050119632546496186, 'std_grad_D': 0.9002055644467373, 'var': 8064.881377551021, 'active_PC_X': 24, 'active_PC_Y': 22, 'std': 89.80468460804826, 'std_PC_X': 5.939748500138534, 'std_PC_Y': 7.909887896210177, 'mean_grad_M': 277.8740473448916, 'mean_PC_Y': 12.071428571428571, 'mean_PC_X': 12.071428571428571}\n",
      "Digit image:\n",
      "/home/morooka/Bureau/letterIdentification/23.0.jpg\n"
     ]
    },
    {
     "data": {
      "text/plain": [
       "<Figure size 432x288 with 0 Axes>"
      ]
     },
     "metadata": {},
     "output_type": "display_data"
    },
    {
     "data": {
      "image/png": "[encoded data removed]",
      "text/plain": [
       "<Figure size 288x288 with 1 Axes>"
      ]
     },
     "metadata": {
      "needs_background": "light"
     },
     "output_type": "display_data"
    },
    {
     "name": "stdout",
     "output_type": "stream",
     "text": [
      "Digit target: 23.0\n",
      "Digit features:\n",
      "{'std_grad_M': 370.97148216183257, 'mean_grad_D': -0.22682188315948165, 'std_grad_D': 0.9251711017497539, 'var': 7826.409619364327, 'active_PC_X': 22, 'active_PC_Y': 26, 'std': 88.46699734570133, 'std_PC_X': 7.738965152567432, 'std_PC_Y': 5.1580875668157065, 'mean_grad_M': 339.2458913638728, 'mean_PC_Y': 10.535714285714286, 'mean_PC_X': 10.535714285714286}\n",
      "Digit image:\n",
      "/home/morooka/Bureau/letterIdentification/23.0.jpg\n"
     ]
    },
    {
     "data": {
      "text/plain": [
       "<Figure size 432x288 with 0 Axes>"
      ]
     },
     "metadata": {},
     "output_type": "display_data"
    },
    {
     "data": {
      "image/png": "[encoded data removed]",
      "text/plain": [
       "<Figure size 288x288 with 1 Axes>"
      ]
     },
     "metadata": {
      "needs_background": "light"
     },
     "output_type": "display_data"
    },
    {
     "name": "stdout",
     "output_type": "stream",
     "text": [
      "Digit target: 1.0\n",
      "Digit features:\n",
      "{'std_grad_M': 343.13147545461794, 'mean_grad_D': 0.3185816303362482, 'std_grad_D': 0.6550586876225287, 'var': 8500.657382340692, 'active_PC_X': 24, 'active_PC_Y': 24, 'std': 92.19900966030325, 'std_PC_X': 6.856770823240994, 'std_PC_Y': 5.556298136312686, 'mean_grad_M': 301.733488768888, 'mean_PC_Y': 11.642857142857142, 'mean_PC_X': 11.642857142857142}\n",
      "Digit image:\n",
      "/home/morooka/Bureau/letterIdentification/1.0.jpg\n"
     ]
    },
    {
     "data": {
      "text/plain": [
       "<Figure size 432x288 with 0 Axes>"
      ]
     },
     "metadata": {},
     "output_type": "display_data"
    },
    {
     "data": {
      "image/png": "[encoded data removed]",
      "text/plain": [
       "<Figure size 288x288 with 1 Axes>"
      ]
     },
     "metadata": {
      "needs_background": "light"
     },
     "output_type": "display_data"
    },
    {
     "name": "stdout",
     "output_type": "stream",
     "text": [
      "Digit target: 20.0\n",
      "Digit features:\n",
      "{'std_grad_M': 333.04624350172634, 'mean_grad_D': -0.03962640058265093, 'std_grad_D': 0.6404383516120187, 'var': 5645.587255310286, 'active_PC_X': 26, 'active_PC_Y': 24, 'std': 75.13712301725617, 'std_PC_X': 5.81518069629932, 'std_PC_Y': 6.275966467568227, 'mean_grad_M': 238.18797891341265, 'mean_PC_Y': 8.571428571428571, 'mean_PC_X': 8.571428571428571}\n",
      "Digit image:\n",
      "/home/morooka/Bureau/letterIdentification/20.0.jpg\n"
     ]
    },
    {
     "data": {
      "text/plain": [
       "<Figure size 432x288 with 0 Axes>"
      ]
     },
     "metadata": {},
     "output_type": "display_data"
    },
    {
     "data": {
      "image/png": "[encoded data removed]",
      "text/plain": [
       "<Figure size 288x288 with 1 Axes>"
      ]
     },
     "metadata": {
      "needs_background": "light"
     },
     "output_type": "display_data"
    },
    {
     "name": "stdout",
     "output_type": "stream",
     "text": [
      "Digit target: 10.0\n",
      "Digit features:\n",
      "{'std_grad_M': 339.60808101583547, 'mean_grad_D': 0.06959585197097849, 'std_grad_D': 0.6054663092429585, 'var': 4230.787113442316, 'active_PC_X': 18, 'active_PC_Y': 26, 'std': 65.04450102385532, 'std_PC_X': 6.349915634985127, 'std_PC_Y': 2.9093445506309, 'mean_grad_M': 198.1040813521688, 'mean_PC_Y': 5.5, 'mean_PC_X': 5.5}\n",
      "Digit image:\n",
      "/home/morooka/Bureau/letterIdentification/10.0.jpg\n"
     ]
    },
    {
     "data": {
      "text/plain": [
       "<Figure size 432x288 with 0 Axes>"
      ]
     },
     "metadata": {},
     "output_type": "display_data"
    },
    {
     "data": {
      "image/png": "[encoded data removed]",
      "text/plain": [
       "<Figure size 288x288 with 1 Axes>"
      ]
     },
     "metadata": {
      "needs_background": "light"
     },
     "output_type": "display_data"
    }
   ],
   "source": [
    "for i in range(1000,1005):\n",
    "    training_set.digits[i].__print__()"
   ]
  },
  {
   "cell_type": "markdown",
   "metadata": {},
   "source": [
    "#### **Classifier Training**\n",
    "\n",
    "In this section, you will have to initialize a Decision Tree classifier and train it with the generated training set. As a first step, set the **maximum depth** of the Decision Tree **equal to 2**.\n",
    "\n",
    "To quickly assess the quality of the trained model, you will compute the prediction accuracy on both the training and testing datasets.\n",
    "\n",
    "*Useful functions &Rightarrow; DecisionTreeClassifier and DecisionTreeClassifier.fit()*"
   ]
  },
  {
   "cell_type": "code",
   "execution_count": 76,
   "metadata": {},
   "outputs": [
    {
     "name": "stdout",
     "output_type": "stream",
     "text": [
      "Training classifier\n",
      "Score on training set: 0.647264260768\n",
      "Score on testing set: 0.574204946996\n",
      "Score on new testing set: 1.0\n"
     ]
    }
   ],
   "source": [
    "from sklearn.tree import DecisionTreeClassifier\n",
    "# Decision Tree initialization\n",
    "clf = DecisionTreeClassifier(random_state = 0, max_depth = 2)\n",
    "\n",
    "print(\"Training classifier\")\n",
    "# Training Decision Tree\n",
    "clf.fit(Xtrain, Ytrain)\n",
    "\n",
    "acc_train = clf.score(Xtrain, Ytrain)\n",
    "print(\"Score on training set: {}\".format(acc_train))\n",
    "# Compute prediction accuracy on training set\n",
    "\n",
    "acc_test = clf.score(Xtest, Ytest)\n",
    "print(\"Score on testing set: {}\".format(acc_test))\n",
    "# Compute prediction accuracy on testing set\n",
    "\n",
    "acc_new_test = clf.score(Xtrain2, Ytrain2)\n",
    "print(\"Score on new testing set: {}\".format(acc_new_test))\n",
    "# Compute prediction accuracy on new testing set"
   ]
  },
  {
   "cell_type": "markdown",
   "metadata": {},
   "source": [
    "#### **Prediction**\n"
   ]
  },
  {
   "cell_type": "code",
   "execution_count": 70,
   "metadata": {},
   "outputs": [],
   "source": [
    "y_pred = clf.predict(Xtrain2)\n",
    "i = 0\n",
    "for prediction in y_pred:\n",
    "    if prediction != float(chiffre):\n",
    "        print \"\\nThe number predicted was: {}\".format(y_pred[i]) + \" but the anwser should be: {}\".format(float(chiffre)) + '\\n'\n",
    "        new_testing_set.digits[i].__print__()\n",
    "    i+=1"
   ]
  },
  {
   "cell_type": "markdown",
   "metadata": {},
   "source": [
    "##### **Parameter tuning**\n",
    "\n",
    "In any machine learning problem, tuning the parameters defining the classifier model is an important step. In our simple classification problem, we will only study the optimal maximum_depth of the decision tree. In this cell, test various values for the depth of the tree, and display the accuracy on both training and testing datasets as a function of the depth.\n",
    "\n",
    "*Useful functions &Rightarrow; plt.plot(), plt.title(), plt.xlabel(), plt.ylabel(), plt.legend()*"
   ]
  },
  {
   "cell_type": "code",
   "execution_count": 10,
   "metadata": {},
   "outputs": [
    {
     "data": {
      "image/png": "[encoded data removed]",
      "text/plain": [
       "<Figure size 1152x576 with 1 Axes>"
      ]
     },
     "metadata": {
      "needs_background": "light"
     },
     "output_type": "display_data"
    }
   ],
   "source": [
    "# Model training and accuracy computation for different maximum_depth parameters\n",
    "tree_depth = [i for i in range(2, 30)]\n",
    "accs_train = []\n",
    "accs_test  = []\n",
    "\n",
    "for depth in tree_depth:\n",
    "    clf = DecisionTreeClassifier(random_state = 0, max_depth = depth)\n",
    "    clf.fit(Xtrain, Ytrain)\n",
    "    accs_train.append(clf.score(Xtrain, Ytrain))\n",
    "    accs_test.append(clf.score(Xtest, Ytest))\n",
    "plt.figure(figsize=(16, 8))\n",
    "\n",
    "# Draw accuracies as a function of the depth for both trainin and testing sets\n",
    "plt.plot(tree_depth, accs_train, label = 'Train Accuracy')\n",
    "plt.plot(tree_depth, accs_test,  label = 'Test Accuracy')\n",
    "plt.ylabel('Accuracy')\n",
    "plt.xlabel('Tree Depth')\n",
    "plt.legend()\n",
    "plt.xticks(tree_depth)\n",
    "plt.show()  "
   ]
  },
  {
   "cell_type": "code",
   "execution_count": 11,
   "metadata": {},
   "outputs": [
    {
     "data": {
      "text/plain": [
       "8"
      ]
     },
     "execution_count": 11,
     "metadata": {},
     "output_type": "execute_result"
    }
   ],
   "source": [
    "tree_depth[np.argmax(accs_test)]"
   ]
  },
  {
   "cell_type": "markdown",
   "metadata": {},
   "source": [
    "##### **Analysis of the trained model**\n",
    "\n",
    "Once you have found the depth value offering the best trade-off between complexity and accuracy, retrain your final model that will be analyzed in the remaining of the lab.\n",
    "\n",
    "To further analyze the performances or your model, a useful tool for a classification problem is the confusion matrix. This allows you to quickly assess the quality of your model by displaying the amount of each possible prediction outcome, the diagonal cells corresponding to accurate predictions while other cells correspond to prediction errors.\n",
    "\n",
    "The code of the function to plot this confusion matrix is given in a cell at the end of the notebook (simply run the cell to use the function).\n",
    "\n",
    "Parameters to give to the **plot_confusion_matrix** function:\n",
    "* confusion matrix (obtained with the confusion_matrix matrix from module sklearn.metrics)\n",
    "* list of class labels\n",
    "* title of the figure plot\n",
    "\n",
    "*Useful functions &Rightarrow; DecisionTreeClassifier.predict() and confusion_matrix()*"
   ]
  },
  {
   "cell_type": "code",
   "execution_count": 14,
   "metadata": {},
   "outputs": [],
   "source": [
    "opt_clf = DecisionTreeClassifier(random_state = 0, max_depth = 8)\n",
    "opt_clf.fit(Xtrain, Ytrain)\n",
    "Ypred_train = opt_clf.predict(Xtrain)\n",
    "Ypred_test = opt_clf.predict(Xtest)"
   ]
  },
  {
   "cell_type": "code",
   "execution_count": 48,
   "metadata": {},
   "outputs": [
    {
     "name": "stdout",
     "output_type": "stream",
     "text": [
      "3.0\n"
     ]
    }
   ],
   "source": [
    "count = 0\n",
    "\n",
    "for diff in (Ypred_test[1:1000] - Ypred_train[1:1000]):\n",
    "    if diff == 0:\n",
    "        count = count +1\n",
    "\n",
    "print(float(count / 100))\n"
   ]
  },
  {
   "cell_type": "markdown",
   "metadata": {},
   "source": [
    "##### **plot_confusion_matrix**"
   ]
  },
  {
   "cell_type": "code",
   "execution_count": 11,
   "metadata": {},
   "outputs": [],
   "source": [
    "import itertools\n",
    "def plot_confusion_matrix(cm, classes,title='Confusion matrix',cmap=plt.cm.Blues):\n",
    "    plt.imshow(cm, interpolation='nearest', cmap=cmap)\n",
    "    plt.title(title)\n",
    "    plt.colorbar()\n",
    "    tick_marks = np.arange(len(classes))\n",
    "    plt.xticks(tick_marks, classes, rotation=45)\n",
    "    plt.yticks(tick_marks, classes)\n",
    "\n",
    "    fmt = 'd'\n",
    "    thresh = cm.max() / 2.\n",
    "    for i, j in itertools.product(range(cm.shape[0]), range(cm.shape[1])):\n",
    "        plt.text(j, i, format(cm[i, j], fmt),\n",
    "                 horizontalalignment=\"center\",\n",
    "                 color=\"white\" if cm[i, j] > thresh else \"black\")\n",
    "\n",
    "    plt.ylabel('True label')\n",
    "    plt.xlabel('Predicted label')\n",
    "    plt.tight_layout()"
   ]
  },
  {
   "cell_type": "code",
   "execution_count": 12,
   "metadata": {},
   "outputs": [
    {
     "data": {
      "image/png": "[encoded data removed]",
      "text/plain": [
       "<Figure size 864x432 with 4 Axes>"
      ]
     },
     "metadata": {
      "needs_background": "light"
     },
     "output_type": "display_data"
    }
   ],
   "source": [
    "from sklearn.metrics import confusion_matrix\n",
    "\n",
    "class_names = ['Digit 0', 'Digit 1', 'Digit 2']\n",
    "plt.figure(figsize=(12,6))\n",
    "\n",
    "# Computation of confusion matrix on training set\n",
    "cm = confusion_matrix(Ytrain, Ypred_train)\n",
    "plt.subplot(121)\n",
    "plot_confusion_matrix(cm, classes=class_names,title='Confusion matrix, Training Set')\n",
    "\n",
    "# Computation of confusion matrix on testing set\n",
    "cm = confusion_matrix(Ytest, Ypred_test)\n",
    "plt.subplot(122)\n",
    "plot_confusion_matrix(cm, classes=class_names,title='Confusion matrix, Testing Set')\n",
    "plt.show()"
   ]
  },
  {
   "cell_type": "markdown",
   "metadata": {},
   "source": [
    "##### **Feature importance**\n",
    "\n",
    "Another important step in classical machine learning problems is to limit as much as possible the number of features in order to reduce the complexity of the model. To do so, since you already trained the classifier with all the computed features, you can simply assess the importance of each feature in the trained model. \n",
    "\n",
    "Each classifier has an attribute ***feature_importance*** that contains an array representing the importance of each feature. The importance represents the ability of the feature to split the dataset in a meaningful manner. A value close to 1 means that the feature is good to discriminate the classes comprising the dataset, while a value close to 0 shows that the feature has not been selected during the training process due to its poor splitting ability.\n",
    "\n",
    "\n",
    "In this cell, you will retrieve this information and generate a bar diagram with the feature names as bins and the feature importances as values.\n",
    "\n",
    "*Useful functions &Rightarrow; ax.bar(), ax.set_xticks(), ax.set_xticklabels() (usage &rightarrow; ax.set_xticklabels(label_list, rotation=45, ha='right'))*"
   ]
  },
  {
   "cell_type": "code",
   "execution_count": 14,
   "metadata": {},
   "outputs": [
    {
     "name": "stdout",
     "output_type": "stream",
     "text": [
      "[0.10143666 0.01485306 0.65580337 0.00584452 0.01330006 0.00795959\n",
      " 0.00819664 0.00827138 0.03090649 0.11432224 0.01548084 0.02362516]\n"
     ]
    }
   ],
   "source": [
    "importance = opt_clf.feature_importances_\n",
    "print(importance)"
   ]
  },
  {
   "cell_type": "code",
   "execution_count": 15,
   "metadata": {},
   "outputs": [
    {
     "data": {
      "text/plain": [
       "[Text(0,0,'std_grad_M'),\n",
       " Text(0,0,'mean_grad_D'),\n",
       " Text(0,0,'std_grad_D'),\n",
       " Text(0,0,'var'),\n",
       " Text(0,0,'active_PC_X'),\n",
       " Text(0,0,'active_PC_Y'),\n",
       " Text(0,0,'std'),\n",
       " Text(0,0,'std_PC_X'),\n",
       " Text(0,0,'std_PC_Y'),\n",
       " Text(0,0,'mean_grad_M'),\n",
       " Text(0,0,'mean_PC_Y'),\n",
       " Text(0,0,'mean_PC_X')]"
      ]
     },
     "execution_count": 15,
     "metadata": {},
     "output_type": "execute_result"
    },
    {
     "data": {
      "image/png": "[encoded data removed]",
      "text/plain": [
       "<Figure size 1152x288 with 1 Axes>"
      ]
     },
     "metadata": {
      "needs_background": "light"
     },
     "output_type": "display_data"
    }
   ],
   "source": [
    "bins = np.arange(len(training_set.digits[0].features))\n",
    "label_list = []\n",
    "for feature in training_set.digits[0].features:\n",
    "    label_list.append(feature)\n",
    "\n",
    "plt.figure(figsize=(16,4))\n",
    "ax = plt.subplot(111)\n",
    "ax.bar(bins, importance)\n",
    "ax.set_xticks(np.arange(len(label_list)))\n",
    "ax.set_yticks([])\n",
    "ax.set_xticklabels(label_list, rotation = 45, ha = 'right')\n",
    "# Display bar graph of feature importances with feature names as labels"
   ]
  },
  {
   "cell_type": "code",
   "execution_count": null,
   "metadata": {},
   "outputs": [],
   "source": []
  }
 ],
 "metadata": {
  "kernelspec": {
   "display_name": "Python 2",
   "language": "python",
   "name": "python2"
  },
  "language_info": {
   "codemirror_mode": {
    "name": "ipython",
    "version": 2
   },
   "file_extension": ".py",
   "mimetype": "text/x-python",
   "name": "python",
   "nbconvert_exporter": "python",
   "pygments_lexer": "ipython2",
   "version": "2.7.15+"
  }
 },
 "nbformat": 4,
 "nbformat_minor": 2
}
