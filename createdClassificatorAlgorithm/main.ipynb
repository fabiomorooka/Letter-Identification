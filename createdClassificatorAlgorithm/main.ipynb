{
 "cells": [
  {
   "cell_type": "markdown",
   "metadata": {},
   "source": [
    "# **Letter classification algorithm**"
   ]
  },
  {
   "cell_type": "markdown",
   "metadata": {},
   "source": [
    "## **Introduction**\n",
    "\n",
    "This is the main program that makes different methods of number classification "
   ]
  },
  {
   "cell_type": "markdown",
   "metadata": {},
   "source": [
    "## **Machine Learning Algorithm**\n",
    "\n",
    "This part contains the ML algorithm with different classifiers, firt there are some functions declarations that are used to manipulate the files in the folder."
   ]
  },
  {
   "cell_type": "code",
   "execution_count": 20,
   "metadata": {},
   "outputs": [],
   "source": [
    "import csv\n",
    "import matplotlib.pyplot as plt \n",
    "import numpy as np\n",
    "from sklearn.metrics import accuracy_score\n",
    "from sklearn.tree import DecisionTreeClassifier\n",
    "import itertools\n",
    "from sklearn.metrics import confusion_matrix"
   ]
  },
  {
   "cell_type": "code",
   "execution_count": 21,
   "metadata": {},
   "outputs": [],
   "source": [
    "def transform_dataset(dataset):\n",
    "    labels = []\n",
    "    letters = []\n",
    "    for row in train:\n",
    "        labels.append(row[-1])\n",
    "        letters.append(np.array(row[:-1]))\n",
    "           \n",
    "    return labels, letters      "
   ]
  },
  {
   "cell_type": "code",
   "execution_count": 22,
   "metadata": {},
   "outputs": [],
   "source": [
    "def plot_confusion_matrix(clf, data_x, data_y):\n",
    "    classes = ['1', '2', '3', '4', '5', '6', '7', '8', '9', '10', '11', '12', '13', '14', '15', '16', '17', '18', '19', '20', '21', '22', '23', '24', '25', '26']\n",
    "\n",
    "    Ypred = clf.predict(data_x)\n",
    "    \n",
    "    # Computation of confusion matrix on testing set\n",
    "    cm = confusion_matrix(data_y, Ypred)\n",
    "    \n",
    "    plt.imshow(cm, interpolation='nearest', cmap=plt.cm.Blues)\n",
    "    plt.title('Confusion matrix')\n",
    "    plt.colorbar()\n",
    "    tick_marks = np.arange(len(classes))\n",
    "    plt.xticks(tick_marks, classes, rotation=45)\n",
    "    plt.yticks(tick_marks, classes)\n",
    "\n",
    "    fmt = 'd'\n",
    "    thresh = cm.max() / 2.\n",
    "    for i, j in itertools.product(range(cm.shape[0]), range(cm.shape[1])):\n",
    "        plt.text(j, i, format(cm[i, j], fmt),\n",
    "                 horizontalalignment=\"center\",\n",
    "                 color=\"white\" if cm[i, j] > thresh else \"black\")\n",
    "\n",
    "    plt.ylabel('True label')\n",
    "    plt.xlabel('Predicted label')\n",
    "    plt.tight_layout()"
   ]
  },
  {
   "cell_type": "code",
   "execution_count": 23,
   "metadata": {},
   "outputs": [],
   "source": [
    "# Model training and accuracy computation for different k values\n",
    "\n",
    "def tuning_parameter_new_knn(start_value, end_value, N):\n",
    "    values = [i for i in range(start_value, end_value)]\n",
    "    accs_train = []\n",
    "    accs_test  = []\n",
    "\n",
    "    # Train on the first N train images\n",
    "    train_x = img_train[:N]\n",
    "    train_y = label_train[:N]\n",
    "    \n",
    "     # Test on the next N/6 test images:\n",
    "    test_x = img_test[:int(N/6)]\n",
    "    test_y = label_test[:int(N/6)]\n",
    "\n",
    "    for i in values:\n",
    "\n",
    "        predictions_train = []\n",
    "        predictions_test = []\n",
    "\n",
    "        predictions_train = kk.kNearestNeighbor(train_x, train_y, train_x, train_y, i)\n",
    "        accs_train.append(accuracy_score(train_y, predictions_train))\n",
    "\n",
    "        predictions_test = kk.kNearestNeighbor(train_x, train_y, test_x, test_y, i)\n",
    "        accs_test.append(accuracy_score(test_y, predictions_test))\n",
    "\n",
    "    plt.figure(figsize=(16, 8))\n",
    "\n",
    "    print(\"Optimal number for k: \" + str(values[np.argmax(accs_test)]))\n",
    "\n",
    "    # Draw accuracies as a function of the depth for both trainin and testing sets\n",
    "    plt.plot(values, accs_train, label = 'Train Accuracy')\n",
    "    plt.plot(values, accs_test,  label = 'Test Accuracy')\n",
    "    plt.ylabel('Accuracy')\n",
    "    plt.xlabel('Number of k')\n",
    "    plt.legend()\n",
    "    plt.xticks(values)\n",
    "    plt.show()  "
   ]
  },
  {
   "cell_type": "code",
   "execution_count": 24,
   "metadata": {},
   "outputs": [],
   "source": [
    "def tuning_parameter(start_value, end_value, N, model):\n",
    "    # Model training and accuracy computation for different parameters\n",
    "    values = [i for i in range(start_value, end_value)]\n",
    "    accs_train = []\n",
    "    accs_test  = []\n",
    "\n",
    "    # Train on the first N train images\n",
    "    train_x = img_train[:N]\n",
    "    train_y = label_train[:N]\n",
    "    \n",
    "     # Test on the next N/6 test images:\n",
    "    test_x = img_test[:int(N/6)]\n",
    "    test_y = label_test[:int(N/6)]\n",
    "    \n",
    "    for i in values:\n",
    "        if model == 1:\n",
    "            clf = KNeighborsClassifier(n_neighbors=i)\n",
    "        elif model == 2:\n",
    "            clf = DecisionTreeClassifier(random_state = 0, max_depth = i)\n",
    "        elif model == 3:\n",
    "            clf = RandomForestClassifier(n_estimators=i)\n",
    "        elif model == 4:\n",
    "            clf = svm.LinearSVC(random_state=0)\n",
    "        clf.fit(train_x, train_y)\n",
    "        accs_train.append(clf.score(train_x, train_y))\n",
    "        accs_test.append(clf.score(test_x, test_y))\n",
    "    plt.figure(figsize=(16, 8))\n",
    "\n",
    "    # Draw accuracies as a function of the depth for both trainin and testing sets\n",
    "    if model == 1:\n",
    "        plt.title(\"KNN\")\n",
    "    elif model == 2:\n",
    "        plt.title(\"Decision Tree Classifier\")\n",
    "    elif model == 3:\n",
    "        plt.title(\"Random Forest Classifier\")\n",
    "    elif model == 4:\n",
    "        plt.title(\"Support Vector Machine\")    \n",
    "    plt.plot(values, accs_train, label = 'Train Accuracy')\n",
    "    plt.plot(values, accs_test,  label = 'Test Accuracy')\n",
    "    plt.ylabel('Accuracy')\n",
    "    plt.xlabel('Parameter')\n",
    "    plt.legend()\n",
    "    plt.xticks(values)\n",
    "    plt.show()  "
   ]
  },
  {
   "cell_type": "code",
   "execution_count": 25,
   "metadata": {},
   "outputs": [
    {
     "name": "stdout",
     "output_type": "stream",
     "text": [
      "Loading Train dataset...\n",
      "Loading Test dataset...\n",
      "Loading Validation dataset...\n",
      "Finished loading!\n",
      "CPU times: user 1.99 s, sys: 865 ms, total: 2.85 s\n",
      "Wall time: 24.1 s\n"
     ]
    }
   ],
   "source": [
    "%%time\n",
    "\n",
    "print(\"Loading Train dataset...\")\n",
    "train_array = np.load('./../train.npy')\n",
    "label_train, img_train = transform_dataset(train_array)\n",
    "\n",
    "print(\"Loading Test dataset...\")\n",
    "test_array = np.load('./../test.npy')\n",
    "label_test, img_test = transform_dataset(test_array)\n",
    "\n",
    "print(\"Loading Validation dataset...\")\n",
    "validation_array = np.load('./../validation.npy')\n",
    "label_valdation, img_validation = transform_dataset(validation_array)\n",
    "\n",
    "print(\"Finished loading!\")"
   ]
  },
  {
   "cell_type": "markdown",
   "metadata": {},
   "source": [
    "# **K-Nearest Neighbors algorithm created**\n",
    "\n",
    "This section is presented the algorithme developped."
   ]
  },
  {
   "cell_type": "code",
   "execution_count": 26,
   "metadata": {},
   "outputs": [
    {
     "name": "stdout",
     "output_type": "stream",
     "text": [
      "KK neighbors model\n",
      "The accuracy is: 0.686746987952\n"
     ]
    },
    {
     "ename": "NameError",
     "evalue": "global name 'clf' is not defined",
     "output_type": "error",
     "traceback": [
      "\u001b[0;31m-----------------------------------------------------------------------\u001b[0m",
      "\u001b[0;31mNameError\u001b[0m                             Traceback (most recent call last)",
      "\u001b[0;32m<ipython-input-26-4d4325ed6c50>\u001b[0m in \u001b[0;36m<module>\u001b[0;34m()\u001b[0m\n\u001b[0;32m----> 1\u001b[0;31m \u001b[0mget_ipython\u001b[0m\u001b[0;34m(\u001b[0m\u001b[0;34m)\u001b[0m\u001b[0;34m.\u001b[0m\u001b[0mrun_cell_magic\u001b[0m\u001b[0;34m(\u001b[0m\u001b[0;34mu'time'\u001b[0m\u001b[0;34m,\u001b[0m \u001b[0;34mu''\u001b[0m\u001b[0;34m,\u001b[0m \u001b[0;34mu'\\nimport kk\\n\\ndef new_KNN(N, n_neighbors):\\n    print(\"KK neighbors model\")\\n    \\n    # Train on the first N train images\\n    train_x = img_train[:N]\\n    train_y = label_train[:N]\\n    \\n     # Test on the next N/6 test images:\\n    test_x = img_test[:int(N/6)]\\n    test_y = label_test[:int(N/6)]\\n       \\n    #Predict the results of the test dataset\\n    predicted = kk.kNearestNeighbor(train_x, train_y, test_x, test_y, n_neighbors)\\n\\n    print(\"The accuracy is: \" + str(accuracy_score(test_y, predicted)))\\n    \\n    #Plot confusion matrix for analyse the classification\\n    plt.figure(figsize=(12,6))\\n    plt.subplot(121)\\n    plot_confusion_matrix(clf, train_x, train_y)\\n   \\n    plt.subplot(122)\\n    plot_confusion_matrix(clf, test_x, test_y)\\n    plt.show()\\n    \\nnew_KNN(1000, 7)\\ntuning_parameter_new_knn(1, 5, 1000)'\u001b[0m\u001b[0;34m)\u001b[0m\u001b[0;34m\u001b[0m\u001b[0;34m\u001b[0m\u001b[0m\n\u001b[0m",
      "\u001b[0;32m/home/morooka/.local/lib/python2.7/site-packages/IPython/core/interactiveshell.pyc\u001b[0m in \u001b[0;36mrun_cell_magic\u001b[0;34m(self, magic_name, line, cell)\u001b[0m\n\u001b[1;32m   2115\u001b[0m             \u001b[0mmagic_arg_s\u001b[0m \u001b[0;34m=\u001b[0m \u001b[0mself\u001b[0m\u001b[0;34m.\u001b[0m\u001b[0mvar_expand\u001b[0m\u001b[0;34m(\u001b[0m\u001b[0mline\u001b[0m\u001b[0;34m,\u001b[0m \u001b[0mstack_depth\u001b[0m\u001b[0;34m)\u001b[0m\u001b[0;34m\u001b[0m\u001b[0;34m\u001b[0m\u001b[0m\n\u001b[1;32m   2116\u001b[0m             \u001b[0;32mwith\u001b[0m \u001b[0mself\u001b[0m\u001b[0;34m.\u001b[0m\u001b[0mbuiltin_trap\u001b[0m\u001b[0;34m:\u001b[0m\u001b[0;34m\u001b[0m\u001b[0;34m\u001b[0m\u001b[0m\n\u001b[0;32m-> 2117\u001b[0;31m                 \u001b[0mresult\u001b[0m \u001b[0;34m=\u001b[0m \u001b[0mfn\u001b[0m\u001b[0;34m(\u001b[0m\u001b[0mmagic_arg_s\u001b[0m\u001b[0;34m,\u001b[0m \u001b[0mcell\u001b[0m\u001b[0;34m)\u001b[0m\u001b[0;34m\u001b[0m\u001b[0;34m\u001b[0m\u001b[0m\n\u001b[0m\u001b[1;32m   2118\u001b[0m             \u001b[0;32mreturn\u001b[0m \u001b[0mresult\u001b[0m\u001b[0;34m\u001b[0m\u001b[0;34m\u001b[0m\u001b[0m\n\u001b[1;32m   2119\u001b[0m \u001b[0;34m\u001b[0m\u001b[0m\n",
      "\u001b[0;32m</home/morooka/.local/lib/python2.7/site-packages/decorator.pyc:decorator-gen-60>\u001b[0m in \u001b[0;36mtime\u001b[0;34m(self, line, cell, local_ns)\u001b[0m\n",
      "\u001b[0;32m/home/morooka/.local/lib/python2.7/site-packages/IPython/core/magic.pyc\u001b[0m in \u001b[0;36m<lambda>\u001b[0;34m(f, *a, **k)\u001b[0m\n\u001b[1;32m    186\u001b[0m     \u001b[0;31m# but it's overkill for just that one bit of state.\u001b[0m\u001b[0;34m\u001b[0m\u001b[0;34m\u001b[0m\u001b[0;34m\u001b[0m\u001b[0m\n\u001b[1;32m    187\u001b[0m     \u001b[0;32mdef\u001b[0m \u001b[0mmagic_deco\u001b[0m\u001b[0;34m(\u001b[0m\u001b[0marg\u001b[0m\u001b[0;34m)\u001b[0m\u001b[0;34m:\u001b[0m\u001b[0;34m\u001b[0m\u001b[0;34m\u001b[0m\u001b[0m\n\u001b[0;32m--> 188\u001b[0;31m         \u001b[0mcall\u001b[0m \u001b[0;34m=\u001b[0m \u001b[0;32mlambda\u001b[0m \u001b[0mf\u001b[0m\u001b[0;34m,\u001b[0m \u001b[0;34m*\u001b[0m\u001b[0ma\u001b[0m\u001b[0;34m,\u001b[0m \u001b[0;34m**\u001b[0m\u001b[0mk\u001b[0m\u001b[0;34m:\u001b[0m \u001b[0mf\u001b[0m\u001b[0;34m(\u001b[0m\u001b[0;34m*\u001b[0m\u001b[0ma\u001b[0m\u001b[0;34m,\u001b[0m \u001b[0;34m**\u001b[0m\u001b[0mk\u001b[0m\u001b[0;34m)\u001b[0m\u001b[0;34m\u001b[0m\u001b[0;34m\u001b[0m\u001b[0m\n\u001b[0m\u001b[1;32m    189\u001b[0m \u001b[0;34m\u001b[0m\u001b[0m\n\u001b[1;32m    190\u001b[0m         \u001b[0;32mif\u001b[0m \u001b[0mcallable\u001b[0m\u001b[0;34m(\u001b[0m\u001b[0marg\u001b[0m\u001b[0;34m)\u001b[0m\u001b[0;34m:\u001b[0m\u001b[0;34m\u001b[0m\u001b[0;34m\u001b[0m\u001b[0m\n",
      "\u001b[0;32m/home/morooka/.local/lib/python2.7/site-packages/IPython/core/magics/execution.pyc\u001b[0m in \u001b[0;36mtime\u001b[0;34m(self, line, cell, local_ns)\u001b[0m\n\u001b[1;32m   1191\u001b[0m         \u001b[0;32melse\u001b[0m\u001b[0;34m:\u001b[0m\u001b[0;34m\u001b[0m\u001b[0;34m\u001b[0m\u001b[0m\n\u001b[1;32m   1192\u001b[0m             \u001b[0mst\u001b[0m \u001b[0;34m=\u001b[0m \u001b[0mclock2\u001b[0m\u001b[0;34m(\u001b[0m\u001b[0;34m)\u001b[0m\u001b[0;34m\u001b[0m\u001b[0;34m\u001b[0m\u001b[0m\n\u001b[0;32m-> 1193\u001b[0;31m             \u001b[0;32mexec\u001b[0m\u001b[0;34m(\u001b[0m\u001b[0mcode\u001b[0m\u001b[0;34m,\u001b[0m \u001b[0mglob\u001b[0m\u001b[0;34m,\u001b[0m \u001b[0mlocal_ns\u001b[0m\u001b[0;34m)\u001b[0m\u001b[0;34m\u001b[0m\u001b[0;34m\u001b[0m\u001b[0m\n\u001b[0m\u001b[1;32m   1194\u001b[0m             \u001b[0mend\u001b[0m \u001b[0;34m=\u001b[0m \u001b[0mclock2\u001b[0m\u001b[0;34m(\u001b[0m\u001b[0;34m)\u001b[0m\u001b[0;34m\u001b[0m\u001b[0;34m\u001b[0m\u001b[0m\n\u001b[1;32m   1195\u001b[0m             \u001b[0mout\u001b[0m \u001b[0;34m=\u001b[0m \u001b[0mNone\u001b[0m\u001b[0;34m\u001b[0m\u001b[0;34m\u001b[0m\u001b[0m\n",
      "\u001b[0;32m<timed exec>\u001b[0m in \u001b[0;36m<module>\u001b[0;34m()\u001b[0m\n",
      "\u001b[0;32m<timed exec>\u001b[0m in \u001b[0;36mnew_KNN\u001b[0;34m(N, n_neighbors)\u001b[0m\n",
      "\u001b[0;31mNameError\u001b[0m: global name 'clf' is not defined"
     ]
    },
    {
     "data": {
      "image/png": "[encoded data removed]",
      "text/plain": [
       "<Figure size 864x432 with 1 Axes>"
      ]
     },
     "metadata": {
      "needs_background": "light"
     },
     "output_type": "display_data"
    }
   ],
   "source": [
    "%%time\n",
    "\n",
    "import kk\n",
    "\n",
    "def new_KNN(N, n_neighbors):\n",
    "    print(\"KK neighbors model\")\n",
    "    \n",
    "    # Train on the first N train images\n",
    "    train_x = img_train[:N]\n",
    "    train_y = label_train[:N]\n",
    "    \n",
    "     # Test on the next N/6 test images:\n",
    "    test_x = img_test[:int(N/6)]\n",
    "    test_y = label_test[:int(N/6)]\n",
    "       \n",
    "    #Predict the results of the test dataset\n",
    "    predicted = kk.kNearestNeighbor(train_x, train_y, test_x, test_y, n_neighbors)\n",
    "\n",
    "    print(\"The accuracy is: \" + str(accuracy_score(test_y, predicted)))\n",
    "    \n",
    "    #Plot confusion matrix for analyse the classification\n",
    "    plt.figure(figsize=(12,6))\n",
    "    plt.subplot(121)\n",
    "    plot_confusion_matrix(clf, train_x, train_y)\n",
    "   \n",
    "    plt.subplot(122)\n",
    "    plot_confusion_matrix(clf, test_x, test_y)\n",
    "    plt.show()\n",
    "    \n",
    "new_KNN(1000, 7)\n",
    "tuning_parameter_new_knn(1, 5, 1000)"
   ]
  },
  {
   "cell_type": "markdown",
   "metadata": {},
   "source": [
    "# **ScikitLearn classification methods**"
   ]
  },
  {
   "cell_type": "markdown",
   "metadata": {},
   "source": [
    "## **KK Neighborhod**"
   ]
  },
  {
   "cell_type": "code",
   "execution_count": null,
   "metadata": {},
   "outputs": [],
   "source": [
    "%%time\n",
    "\n",
    "from sklearn.neighbors import KNeighborsClassifier\n",
    "\n",
    "def KK(N):\n",
    "    print(\"KK neighbors model\")\n",
    "    \n",
    "    # Train on the first N train images\n",
    "    train_x = img_train[:N]\n",
    "    train_y = label_train[:N]\n",
    "    \n",
    "     # Test on the next N/6 test images:\n",
    "    test_x = img_test[:int(N/6)]\n",
    "    test_y = label_test[:int(N/6)]\n",
    "    \n",
    "    # Create the classifier using the scikit learn library\n",
    "    clf = KNeighborsClassifier(n_neighbors=1)\n",
    "    \n",
    "    #Train the classifier\n",
    "    clf.fit(train_x, train_y)\n",
    "    \n",
    "    #Predict the results of the test dataset\n",
    "    predicted = clf.predict(test_x)\n",
    "    print(\"The accuracy is: \" + str(accuracy_score(test_y, predicted)))\n",
    "    \n",
    "    #Plot confusion matrix for analyse the classification\n",
    "    plt.figure(figsize=(12,6))\n",
    "    plt.subplot(121)\n",
    "    plot_confusion_matrix(clf, train_x, train_y)\n",
    "   \n",
    "    plt.subplot(122)\n",
    "    plot_confusion_matrix(clf, test_x, test_y)\n",
    "    plt.show()\n",
    "    \n",
    "KK(1000)\n",
    "tuning_parameter(1, 5, 1000, 1)"
   ]
  },
  {
   "cell_type": "markdown",
   "metadata": {},
   "source": [
    "## **Decision Tree**"
   ]
  },
  {
   "cell_type": "code",
   "execution_count": null,
   "metadata": {},
   "outputs": [],
   "source": [
    "%%time\n",
    "\n",
    "from sklearn.tree import DecisionTreeClassifier\n",
    "\n",
    "def DecisionTree(N):\n",
    "    print(\"Decision Tree model\")\n",
    "    \n",
    "    # Train on the first N train images\n",
    "    train_x = img_train[:N]\n",
    "    train_y = label_train[:N]\n",
    "    \n",
    "     # Test on the next N/6 test images:\n",
    "    test_x = img_test[:int(N/6)]\n",
    "    test_y = label_test[:int(N/6)]\n",
    "    \n",
    "    # Create the classifier using the scikit learn library\n",
    "    clf = DecisionTreeClassifier(random_state = 0, max_depth = 15)\n",
    "    \n",
    "    #Train the classifier\n",
    "    clf.fit(train_x, train_y)\n",
    "    \n",
    "    #Predict the results of the test dataset\n",
    "    predicted = clf.predict(test_x)\n",
    "    print(\"The accuracy is: \" + str(accuracy_score(test_y, predicted)))\n",
    "    \n",
    "    #Plot confusion matrix for analyse the classification\n",
    "    plt.figure(figsize=(12,6))\n",
    "    plt.subplot(121)\n",
    "    plot_confusion_matrix(clf, train_x, train_y)\n",
    "   \n",
    "    plt.subplot(122)\n",
    "    plot_confusion_matrix(clf, test_x, test_y)\n",
    "    plt.show()\n",
    "    \n",
    "DecisionTree(10000)\n",
    "tuning_parameter(1, 5, 10000, 2)"
   ]
  },
  {
   "cell_type": "markdown",
   "metadata": {},
   "source": [
    "## **Random Forest**"
   ]
  },
  {
   "cell_type": "code",
   "execution_count": null,
   "metadata": {},
   "outputs": [],
   "source": [
    "%%time\n",
    "\n",
    "from sklearn.ensemble import RandomForestClassifier\n",
    "\n",
    "def RandomForest(N):\n",
    "    print(\"Random Forest model\")\n",
    "    \n",
    "    # Train on the first N train images\n",
    "    train_x = img_train[:N]\n",
    "    train_y = label_train[:N]\n",
    "    \n",
    "     # Test on the next N/6 test images:\n",
    "    test_x = img_test[:int(N/6)]\n",
    "    test_y = label_test[:int(N/6)]\n",
    "    \n",
    "    # Create the classifier using the scikit learn library\n",
    "    clf = RandomForestClassifier(n_estimators=100)\n",
    "    \n",
    "    #Train the classifier\n",
    "    clf.fit(train_x, train_y)\n",
    "    \n",
    "    #Predict the results of the test dataset\n",
    "    predicted = clf.predict(test_x)\n",
    "    print(\"The accuracy is: \" + str(accuracy_score(test_y, predicted)))\n",
    "    \n",
    "    #Plot confusion matrix for analyse the classification\n",
    "    plt.figure(figsize=(12,6))\n",
    "    plt.subplot(121)\n",
    "    plot_confusion_matrix(clf, train_x, train_y)\n",
    "   \n",
    "    plt.subplot(122)\n",
    "    plot_confusion_matrix(clf, test_x, test_y)\n",
    "    plt.show()\n",
    "    \n",
    "RandomForest(1000)\n",
    "tuning_parameter(1, 5, 1000, 3)"
   ]
  },
  {
   "cell_type": "markdown",
   "metadata": {},
   "source": [
    "## **SVM**"
   ]
  },
  {
   "cell_type": "code",
   "execution_count": null,
   "metadata": {},
   "outputs": [],
   "source": [
    "%%time\n",
    "\n",
    "from sklearn import svm\n",
    "\n",
    "def SupportVectorMachine(N):\n",
    "    print(\"Support Vector Machine model\")\n",
    "    \n",
    "    # Train on the first N train images\n",
    "    train_x = img_train[:N]\n",
    "    train_y = label_train[:N]\n",
    "    \n",
    "     # Test on the next N/6 test images:\n",
    "    test_x = img_test[:int(N/6)]\n",
    "    test_y = label_test[:int(N/6)]\n",
    "    \n",
    "    # Create the classifier using the scikit learn library\n",
    "    clf = svm.LinearSVC(random_state=0)\n",
    "    \n",
    "    #Train the classifier\n",
    "    clf.fit(train_x, train_y)\n",
    "    \n",
    "    #Predict the results of the test dataset\n",
    "    predicted = clf.predict(test_x)\n",
    "    print(\"The accuracy is: \" + str(accuracy_score(test_y, predicted)))\n",
    "    \n",
    "    #Plot confusion matrix for analyse the classification\n",
    "    plt.figure(figsize=(12,6))\n",
    "    plt.subplot(121)\n",
    "    plot_confusion_matrix(clf, train_x, train_y)\n",
    "   \n",
    "    plt.subplot(122)\n",
    "    plot_confusion_matrix(clf, test_x, test_y)\n",
    "    plt.show()\n",
    "    \n",
    "SupportVectorMachine(1000)\n",
    "tuning_parameter(1, 5, 1000, 4)"
   ]
  },
  {
   "cell_type": "code",
   "execution_count": null,
   "metadata": {},
   "outputs": [],
   "source": []
  }
 ],
 "metadata": {
  "kernelspec": {
   "display_name": "Python 2",
   "language": "python",
   "name": "python2"
  },
  "language_info": {
   "codemirror_mode": {
    "name": "ipython",
    "version": 2
   },
   "file_extension": ".py",
   "mimetype": "text/x-python",
   "name": "python",
   "nbconvert_exporter": "python",
   "pygments_lexer": "ipython2",
   "version": "2.7.15+"
  }
 },
 "nbformat": 4,
 "nbformat_minor": 2
}
