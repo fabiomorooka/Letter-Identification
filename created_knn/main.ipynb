{
 "cells": [
  {
   "cell_type": "markdown",
   "metadata": {},
   "source": [
    "# **Letter classification study using the K Nearest Neighbors model**"
   ]
  },
  {
   "cell_type": "markdown",
   "metadata": {},
   "source": [
    "## **Introduction**\n",
    "\n",
    "This is the main study of a letter classification using the EMNIST letters database avaiable in https://www.nist.gov/itl/products-and-services/emnist-dataset"
   ]
  },
  {
   "cell_type": "markdown",
   "metadata": {},
   "source": [
    "## **Generate dataset**\n",
    "\n",
    "This part contains the functions to read the dataset saved in the \".npy\" files to use it in the machine learning algorithm created"
   ]
  },
  {
   "cell_type": "code",
   "execution_count": 1,
   "metadata": {},
   "outputs": [],
   "source": [
    "import dataTools as dt"
   ]
  },
  {
   "cell_type": "code",
   "execution_count": 2,
   "metadata": {},
   "outputs": [
    {
     "name": "stdout",
     "output_type": "stream",
     "text": [
      "Generating TRAIN data...\n",
      "Creating dataset...\n",
      "Number of the lines in the dataset: 99840\n",
      "Number of the lines in the dataset: 99840\n",
      "\n",
      "Finished creating dataset\n",
      "\n",
      "CPU times: user 17min 52s, sys: 2.91 s, total: 17min 55s\n",
      "Wall time: 17min 54s\n"
     ]
    }
   ],
   "source": [
    "%%time\n",
    "\n",
    "X_train, Y_train = dt.create_train_data(1)"
   ]
  },
  {
   "cell_type": "code",
   "execution_count": 3,
   "metadata": {},
   "outputs": [
    {
     "name": "stdout",
     "output_type": "stream",
     "text": [
      "Generating TEST data...\n",
      "Creating dataset...\n",
      "Number of the lines in the dataset: 20800\n",
      "Number of the lines in the dataset: 20800\n",
      "\n",
      "Finished creating dataset\n",
      "\n",
      "CPU times: user 3min 42s, sys: 472 ms, total: 3min 42s\n",
      "Wall time: 3min 42s\n"
     ]
    }
   ],
   "source": [
    "%%time\n",
    "\n",
    "X_test, Y_test = dt.create_test_data(1)"
   ]
  },
  {
   "cell_type": "code",
   "execution_count": 4,
   "metadata": {},
   "outputs": [
    {
     "name": "stdout",
     "output_type": "stream",
     "text": [
      "Generating VALIDATION data...\n",
      "Creating dataset...\n",
      "Number of the lines in the dataset: 24960\n",
      "Number of the lines in the dataset: 24960\n",
      "\n",
      "Finished creating dataset\n",
      "\n",
      "CPU times: user 4min 27s, sys: 540 ms, total: 4min 28s\n",
      "Wall time: 4min 28s\n"
     ]
    }
   ],
   "source": [
    "%%time\n",
    "\n",
    "X_validation, Y_validation = dt.create_validation_data(1)"
   ]
  },
  {
   "cell_type": "markdown",
   "metadata": {},
   "source": [
    "## **K-Nearest Neighbors algorithm created**\n",
    "\n",
    "This section is presented the algorithme developped."
   ]
  },
  {
   "cell_type": "code",
   "execution_count": 5,
   "metadata": {},
   "outputs": [],
   "source": [
    "import knn\n",
    "from sklearn.metrics import accuracy_score"
   ]
  },
  {
   "cell_type": "code",
   "execution_count": 6,
   "metadata": {},
   "outputs": [],
   "source": [
    "def generate_feature_row(dataset):\n",
    "    letters_with_features = []\n",
    "    for i in range(dataset.length):\n",
    "        target = dataset.letters[i].target\n",
    "        features = dataset.letters[i].features.values()\n",
    "        features.append(target)\n",
    "\n",
    "        letters_with_features.append(features)\n",
    "\n",
    "    return letters_with_features"
   ]
  },
  {
   "cell_type": "code",
   "execution_count": 7,
   "metadata": {},
   "outputs": [
    {
     "name": "stdout",
     "output_type": "stream",
     "text": [
      "Generating TRAIN data...\n",
      "Creating dataset...\n",
      "Number of the lines in the dataset: 99840\n",
      "Number of the lines in the dataset: 99840\n",
      "\n",
      "Finished creating dataset\n",
      "\n",
      "CPU times: user 17min 51s, sys: 2.36 s, total: 17min 54s\n",
      "Wall time: 17min 53s\n"
     ]
    }
   ],
   "source": [
    "%%time\n",
    "\n",
    "X_train = generate_feature_row(dt.create_train_data_list(1))"
   ]
  },
  {
   "cell_type": "code",
   "execution_count": 8,
   "metadata": {},
   "outputs": [
    {
     "name": "stdout",
     "output_type": "stream",
     "text": [
      "Generating VALIDATION data...\n",
      "Creating dataset...\n",
      "Number of the lines in the dataset: 24960\n",
      "Number of the lines in the dataset: 24960\n",
      "\n",
      "Finished creating dataset\n",
      "\n",
      "CPU times: user 4min 28s, sys: 160 ms, total: 4min 28s\n",
      "Wall time: 4min 28s\n"
     ]
    }
   ],
   "source": [
    "%%time\n",
    "\n",
    "X_validation = generate_feature_row(dt.create_validation_data_list(1))"
   ]
  },
  {
   "cell_type": "code",
   "execution_count": 9,
   "metadata": {},
   "outputs": [
    {
     "name": "stdout",
     "output_type": "stream",
     "text": [
      "Generating TEST data...\n",
      "Creating dataset...\n",
      "Number of the lines in the dataset: 20800\n",
      "Number of the lines in the dataset: 20800\n",
      "\n",
      "Finished creating dataset\n",
      "\n",
      "CPU times: user 3min 43s, sys: 116 ms, total: 3min 43s\n",
      "Wall time: 3min 43s\n"
     ]
    }
   ],
   "source": [
    "%%time\n",
    "\n",
    "X_test = generate_feature_row(dt.create_test_data_list(1))"
   ]
  },
  {
   "cell_type": "code",
   "execution_count": 10,
   "metadata": {},
   "outputs": [],
   "source": [
    "def knn_train(num_neighbors, norm):\n",
    "    print(\"Using \" + str(num_neighbors) + \" neighbors\")\n",
    "    print(\"Using the \" + norm + \" norm\\n\")\n",
    "    predicted = knn.k_nearest_neighbors(X_train, X_train, num_neighbors, norm)\n",
    "   \n",
    "    print(\"The train accuracy is: \" + str(round((accuracy_score(Y_train, predicted) * 100), 3)) + \"%\\n\")\n",
    "    \n",
    "    return predicted"
   ]
  },
  {
   "cell_type": "code",
   "execution_count": null,
   "metadata": {},
   "outputs": [
    {
     "name": "stdout",
     "output_type": "stream",
     "text": [
      "Using 5 neighbors\n",
      "Using the l2 norm\n",
      "\n"
     ]
    }
   ],
   "source": [
    "%%time \n",
    "\n",
    "predicted_train_l2 = knn_train(5, 'l2')"
   ]
  },
  {
   "cell_type": "code",
   "execution_count": null,
   "metadata": {},
   "outputs": [],
   "source": [
    "%%time \n",
    "\n",
    "predicted_train_l1 = knn_train(5, 'l1')"
   ]
  },
  {
   "cell_type": "code",
   "execution_count": null,
   "metadata": {},
   "outputs": [],
   "source": [
    "def knn_validation(num_neighbors, norm):\n",
    "    print(\"Using \" + str(num_neighbors) + \" neighbors\")\n",
    "    print(\"Using the \" + norm + \" norm\\n\")\n",
    "    predicted = knn.k_nearest_neighbors(X_train, X_validation, num_neighbors, norm)\n",
    "   \n",
    "    print(\"The train accuracy is: \" + str(round((accuracy_score(Y_validation, predicted) * 100), 3)) + \"%\\n\")\n",
    "    \n",
    "    return predicted"
   ]
  },
  {
   "cell_type": "code",
   "execution_count": null,
   "metadata": {},
   "outputs": [],
   "source": [
    "%%time \n",
    "\n",
    "predicted_validation_l2 = knn_validation(5, 'l2')\n"
   ]
  },
  {
   "cell_type": "code",
   "execution_count": null,
   "metadata": {},
   "outputs": [],
   "source": [
    "%%time \n",
    "\n",
    "predicted_validation_l1 = knn_validation(5, 'l1')"
   ]
  },
  {
   "cell_type": "markdown",
   "metadata": {},
   "source": [
    "## **Visualizing the study**\n",
    "\n",
    "This part consist a better visualization of the study done to better analyse the classifier"
   ]
  },
  {
   "cell_type": "code",
   "execution_count": null,
   "metadata": {},
   "outputs": [],
   "source": [
    "import matplotlib.pyplot as plt \n",
    "import itertools\n",
    "from sklearn.metrics import confusion_matrix\n",
    "import string\n",
    "import numpy as np"
   ]
  },
  {
   "cell_type": "code",
   "execution_count": null,
   "metadata": {},
   "outputs": [],
   "source": [
    "def plot_confusion_matrix(data_x, data_y, Ypred):\n",
    "    classes = string.ascii_uppercase\n",
    "    \n",
    "    # Computation of confusion matrix on testing set\n",
    "    cm = confusion_matrix(data_y, Ypred)\n",
    "    \n",
    "    plt.imshow(cm, interpolation='nearest', cmap=plt.cm.Blues)\n",
    "    #plt.title('Confusion matrix')\n",
    "    plt.colorbar()\n",
    "    tick_marks = np.arange(len(classes))\n",
    "    plt.xticks(tick_marks, classes, rotation=45)\n",
    "    plt.yticks(tick_marks, classes)\n",
    "\n",
    "    fmt = 'd'\n",
    "    thresh = cm.max() / 2.\n",
    "    for i, j in itertools.product(range(cm.shape[0]), range(cm.shape[1])):\n",
    "        plt.text(j, i, format(cm[i, j], fmt),\n",
    "                 horizontalalignment=\"center\",\n",
    "                 color=\"white\" if cm[i, j] > thresh else \"black\")\n",
    "\n",
    "    plt.ylabel('True label')\n",
    "    plt.xlabel('Predicted label')\n",
    "    plt.tight_layout()"
   ]
  },
  {
   "cell_type": "code",
   "execution_count": null,
   "metadata": {},
   "outputs": [],
   "source": [
    "#Plot confusion matrix for analyse the classification\n",
    "plt.figure(figsize=(12,6))\n",
    "plt.title('Train Confusion Matrix')\n",
    "\n",
    "plt.subplot(121)\n",
    "# plt.title(\"Train accuracy is: \" + str(round((accuracy_score(train_y[:M], predicted_train) * 100), 3)) + \"%\")\n",
    "plot_confusion_matrix(X_train, Y_train, predicted_train_l2)\n",
    "print(\"The train accuracy is: \" + str(round((accuracy_score(Y_train, predicted_train_l2) * 100), 3)) + \"%\\n\")\n",
    "\n",
    "plt.subplot(122)\n",
    "# plt.title(\"Train accuracy is: \" + str(round((accuracy_score(train_y[:M], predicted_train) * 100), 3)) + \"%\")\n",
    "plot_confusion_matrix(X_train, Y_train, predicted_train_l1)\n",
    "print(\"The train accuracy is: \" + str(round((accuracy_score(Y_train, predicted_train_l1) * 100), 3)) + \"%\\n\")\n",
    "\n",
    "\n",
    "plt.savefig(\"./Results/Train\")\n",
    "\n"
   ]
  },
  {
   "cell_type": "code",
   "execution_count": null,
   "metadata": {},
   "outputs": [],
   "source": [
    "plt.figure(figsize=(12,6))\n",
    "plt.title('Validation Confusion Matrix')\n",
    "\n",
    "plt.subplot(121)\n",
    "#plt.title(\"Validation accuracy is: \" + str(round((accuracy_score(validation_y[:M], predicted_validation) * 100), 3)) + \"%\")\n",
    "plot_confusion_matrix(X_validation, Y_validation, predicted_validation_l2)\n",
    "print(\"The validation accuracy is: \" + str(round((accuracy_score(Y_validation, predicted_validation_l2) * 100), 3)) + \"%\\n\")\n",
    "\n",
    "plt.subplot(122)\n",
    "#plt.title(\"Validation accuracy is: \" + str(round((accuracy_score(validation_y[:M], predicted_validation) * 100), 3)) + \"%\")\n",
    "plot_confusion_matrix(X_validation, Y_validation, predicted_validation_l1)\n",
    "print(\"The validation accuracy is: \" + str(round((accuracy_score(Y_validation, predicted_validation_l1) * 100), 3)) + \"%\\n\")\n",
    "\n",
    "\n",
    "\n",
    "plt.savefig(\"./Results/Validation\")\n",
    "#plt.show()"
   ]
  },
  {
   "cell_type": "markdown",
   "metadata": {},
   "source": [
    "## Hyperparameters study\n",
    "\n",
    "This part consist on making a study of the hyperparameters of the KNN model"
   ]
  },
  {
   "cell_type": "code",
   "execution_count": null,
   "metadata": {},
   "outputs": [],
   "source": [
    "# Model training and accuracy computation for different k values\n",
    "\n",
    "def tuning_parameter_new_knn(start_value, end_value):\n",
    "    values = [i for i in range(start_value, end_value)]\n",
    "    accs_train = []\n",
    "    accs_validation  = []\n",
    "\n",
    "    for neighbors in values:\n",
    "        \n",
    "        print neighbors\n",
    "\n",
    "        prediction_train = []\n",
    "        prediction_validation = []\n",
    "\n",
    "        prediction_train = knn.k_nearest_neighbors(X_train, X_train, neighbors, 'l2')\n",
    "        accs_train.append(accuracy_score(Y_train, prediction_train))\n",
    "\n",
    "        prediction_validation = knn.k_nearest_neighbors(X_train, X_validation, neighbors, 'l2')\n",
    "        accs_validation.append(accuracy_score(Y_validation, prediction_validation))\n",
    "\n",
    "    plt.figure(figsize=(16, 8))\n",
    "\n",
    "    print(\"Optimal number for k: \" + str(values[np.argmax(accs_validation)]))\n",
    "\n",
    "    # Draw accuracies as a function of the depth for both trainin and testing sets\n",
    "    plt.plot(values, accs_train, label = 'Train Accuracy')\n",
    "    plt.plot(values, accs_validation,  label = 'Validation Accuracy')\n",
    "    plt.ylabel('Accuracy')\n",
    "    plt.xlabel('Number of k neighbors')\n",
    "    plt.legend()\n",
    "    plt.xticks(values)\n",
    "    plt.show()  "
   ]
  },
  {
   "cell_type": "code",
   "execution_count": null,
   "metadata": {},
   "outputs": [],
   "source": [
    "%%time \n",
    "\n",
    "tuning_parameter_new_knn(2, 15)"
   ]
  },
  {
   "cell_type": "markdown",
   "metadata": {},
   "source": [
    "## **Best K-Nearest Neighbors model**\n",
    "\n",
    "Finally after making the study of the hyperparameters we make another study to see the gain in performance"
   ]
  },
  {
   "cell_type": "code",
   "execution_count": 33,
   "metadata": {},
   "outputs": [],
   "source": [
    "neighbor = 2\n",
    "norm = 'l2'"
   ]
  },
  {
   "cell_type": "code",
   "execution_count": 34,
   "metadata": {},
   "outputs": [
    {
     "name": "stdout",
     "output_type": "stream",
     "text": [
      "Using 2 neighbors\n",
      "Using the l2 norm\n",
      "\n",
      "The train accuracy is: 53.707%\n",
      "\n",
      "CPU times: user 5.73 s, sys: 44.5 ms, total: 5.78 s\n",
      "Wall time: 5.7 s\n"
     ]
    }
   ],
   "source": [
    "%%time \n",
    "\n",
    "best_predicted_train = knn_train(neighbor, norm)"
   ]
  },
  {
   "cell_type": "code",
   "execution_count": 35,
   "metadata": {},
   "outputs": [
    {
     "name": "stdout",
     "output_type": "stream",
     "text": [
      "Test dataset has: 208 letters\n"
     ]
    }
   ],
   "source": [
    "print(\"Test dataset has: \" + str(test_set.length) + \" letters\")"
   ]
  },
  {
   "cell_type": "code",
   "execution_count": 36,
   "metadata": {},
   "outputs": [],
   "source": [
    "def knn_test(n_neighbors, norm):  \n",
    "    #Predict the results of the train dataset\n",
    "    predicted = knn.k_nearest_neighbors(X_train, X_test, n_neighbors, norm)\n",
    "\n",
    "    print(\"The validation accuracy is: \" + str(round((accuracy_score(Y_test, predicted) * 100), 3)) + \"%\\n\")\n",
    "\n",
    "    \n",
    "    return predicted"
   ]
  },
  {
   "cell_type": "code",
   "execution_count": 37,
   "metadata": {},
   "outputs": [
    {
     "name": "stdout",
     "output_type": "stream",
     "text": [
      "The validation accuracy is: 6.731%\n",
      "\n",
      "CPU times: user 1.51 s, sys: 11.8 ms, total: 1.52 s\n",
      "Wall time: 1.51 s\n"
     ]
    }
   ],
   "source": [
    "%%time \n",
    "\n",
    "predicted_test = knn_test(neighbor, norm)"
   ]
  },
  {
   "cell_type": "code",
   "execution_count": 38,
   "metadata": {},
   "outputs": [],
   "source": [
    "def knn_train(n_neighbors, norm):  \n",
    "    #Predict the results of the train dataset\n",
    "    predicted = knn.k_nearest_neighbors(X_train, X_train, n_neighbors, norm)\n",
    "\n",
    "    print(\"The validation accuracy is: \" + str(round((accuracy_score(Y_train, predicted) * 100), 3)) + \"%\\n\")\n",
    "\n",
    "    \n",
    "    return predicted"
   ]
  },
  {
   "cell_type": "code",
   "execution_count": 39,
   "metadata": {},
   "outputs": [
    {
     "name": "stdout",
     "output_type": "stream",
     "text": [
      "The validation accuracy is: 53.707%\n",
      "\n",
      "CPU times: user 6.77 s, sys: 60 ms, total: 6.83 s\n",
      "Wall time: 6.74 s\n"
     ]
    }
   ],
   "source": [
    "%%time \n",
    "\n",
    "predicted_train = knn_train(neighbor, norm)"
   ]
  },
  {
   "cell_type": "code",
   "execution_count": 40,
   "metadata": {},
   "outputs": [
    {
     "data": {
      "image/png": "[encoded data removed]",
      "text/plain": [
       "<Figure size 864x432 with 4 Axes>"
      ]
     },
     "metadata": {
      "needs_background": "light"
     },
     "output_type": "display_data"
    }
   ],
   "source": [
    "#Plot confusion matrix for analyse the classification\n",
    "plt.figure(figsize=(12,6))\n",
    "plt.subplot(121)\n",
    "plot_confusion_matrix(X_train, Y_train, predicted_train)\n",
    "\n",
    "plt.subplot(122)\n",
    "plot_confusion_matrix(X_test, Y_test, predicted_test)\n",
    "plt.show()"
   ]
  },
  {
   "cell_type": "code",
   "execution_count": null,
   "metadata": {},
   "outputs": [],
   "source": []
  },
  {
   "cell_type": "code",
   "execution_count": null,
   "metadata": {},
   "outputs": [],
   "source": []
  },
  {
   "cell_type": "code",
   "execution_count": null,
   "metadata": {},
   "outputs": [],
   "source": []
  }
 ],
 "metadata": {
  "kernelspec": {
   "display_name": "Python 2",
   "language": "python",
   "name": "python2"
  },
  "language_info": {
   "codemirror_mode": {
    "name": "ipython",
    "version": 2
   },
   "file_extension": ".py",
   "mimetype": "text/x-python",
   "name": "python",
   "nbconvert_exporter": "python",
   "pygments_lexer": "ipython2",
   "version": "2.7.15+"
  }
 },
 "nbformat": 4,
 "nbformat_minor": 2
}
