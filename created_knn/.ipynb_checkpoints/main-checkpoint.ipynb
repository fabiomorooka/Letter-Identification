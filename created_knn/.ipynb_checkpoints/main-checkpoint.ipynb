{
 "cells": [
  {
   "cell_type": "markdown",
   "metadata": {},
   "source": [
    "# **Letter classification study using the K Nearest Neighbors model**"
   ]
  },
  {
   "cell_type": "markdown",
   "metadata": {},
   "source": [
    "## **Introduction**\n",
    "\n",
    "This is the main study of a letter classification using the EMNIST letters database avaiable in https://www.nist.gov/itl/products-and-services/emnist-dataset"
   ]
  },
  {
   "cell_type": "markdown",
   "metadata": {},
   "source": [
    "## **Reading the dataset**\n",
    "\n",
    "This part contains the functions to read the dataset saved in the \".npy\" files to use it in the machine learning algorithm created"
   ]
  },
  {
   "cell_type": "code",
   "execution_count": 1,
   "metadata": {},
   "outputs": [],
   "source": [
    "import numpy as np"
   ]
  },
  {
   "cell_type": "code",
   "execution_count": 2,
   "metadata": {},
   "outputs": [],
   "source": [
    "def transform_dataset(dataset):\n",
    "    labels = []\n",
    "    letters = []\n",
    "    for row in dataset:\n",
    "        labels.append(row[-1])\n",
    "        letters.append(np.array(row[:-1]))\n",
    "           \n",
    "    return labels, letters      "
   ]
  },
  {
   "cell_type": "code",
   "execution_count": 5,
   "metadata": {},
   "outputs": [
    {
     "name": "stdout",
     "output_type": "stream",
     "text": [
      "Loading Train dataset...\n",
      "Loading Test dataset...\n",
      "Loading Validation dataset...\n",
      "Finished loading!\n",
      "CPU times: user 573 ms, sys: 459 ms, total: 1.03 s\n",
      "Wall time: 1.03 s\n"
     ]
    }
   ],
   "source": [
    "%%time\n",
    "\n",
    "print(\"Loading Train dataset...\")\n",
    "train_array = np.load('./../train.npy')\n",
    "label_train, img_train = transform_dataset(train_array)\n",
    "print(\"Finished loading train dataset!\")"
   ]
  },
  {
   "cell_type": "code",
   "execution_count": null,
   "metadata": {},
   "outputs": [],
   "source": [
    "%%time\n",
    "\n",
    "print(\"Loading Test dataset...\")\n",
    "test_array = np.load('./../test.npy')\n",
    "label_test, img_test = transform_dataset(test_array)\n",
    "print(\"Finished loading test dataset!\")"
   ]
  },
  {
   "cell_type": "code",
   "execution_count": null,
   "metadata": {},
   "outputs": [],
   "source": [
    "%%time\n",
    "\n",
    "print(\"Loading Validation dataset...\")\n",
    "validation_array = np.load('./../validation.npy')\n",
    "label_valdation, img_validation = transform_dataset(validation_array)\n",
    "print(\"Finished loading validation dataset!\")"
   ]
  },
  {
   "cell_type": "markdown",
   "metadata": {},
   "source": [
    "## **K-Nearest Neighbors algorithm created**\n",
    "\n",
    "This section is presented the algorithme developped."
   ]
  },
  {
   "cell_type": "code",
   "execution_count": null,
   "metadata": {},
   "outputs": [],
   "source": [
    "import kk\n",
    "from sklearn.metrics import accuracy_score"
   ]
  },
  {
   "cell_type": "code",
   "execution_count": null,
   "metadata": {},
   "outputs": [],
   "source": [
    "N = 2000\n",
    "M = 2000/8\n",
    "train_x = img_train[:N]\n",
    "train_y = label_train[:N]\n",
    "validation_x = img_validation[:M]\n",
    "validation_y = label_validation[:M]"
   ]
  },
  {
   "cell_type": "code",
   "execution_count": null,
   "metadata": {},
   "outputs": [],
   "source": [
    "def knn_train(N, n_neighbors):  \n",
    "    #Predict the results of the train dataset\n",
    "    predicted = kk.kNearestNeighbor(train_x, train_y, train_x, train_y, n_neighbors)\n",
    "\n",
    "    print(\"The train accuracy is: \" + str(accuracy_score(train_y, predicted)))\n",
    "    \n",
    "    return predicted"
   ]
  },
  {
   "cell_type": "code",
   "execution_count": 6,
   "metadata": {},
   "outputs": [],
   "source": [
    "def knn_validation(N, n_neighbors):\n",
    "    #Predict the results of the test dataset\n",
    "    predicted = kk.kNearestNeighbor(train_x, train_y, validation_x, validation_y, n_neighbors)\n",
    "\n",
    "    print(\"The validation accuracy is: \" + str(accuracy_score(validation_y, predicted)))\n",
    "    \n",
    "    return predicted"
   ]
  },
  {
   "cell_type": "code",
   "execution_count": null,
   "metadata": {},
   "outputs": [],
   "source": [
    "%%time \n",
    "\n",
    "predicted_train = knn_train(2000, 5)"
   ]
  },
  {
   "cell_type": "code",
   "execution_count": null,
   "metadata": {},
   "outputs": [],
   "source": [
    "%%time \n",
    "\n",
    "predicted_validation = knn_validation(2000, 5)\n"
   ]
  },
  {
   "cell_type": "markdown",
   "metadata": {},
   "source": [
    "## **Visualizing the study**\n",
    "\n",
    "This part consist a better visualization of the study done to better analyse the classifier"
   ]
  },
  {
   "cell_type": "code",
   "execution_count": null,
   "metadata": {},
   "outputs": [],
   "source": [
    "import matplotlib.pyplot as plt \n",
    "import itertools\n",
    "from sklearn.metrics import confusion_matrix\n",
    "import string"
   ]
  },
  {
   "cell_type": "code",
   "execution_count": null,
   "metadata": {},
   "outputs": [],
   "source": [
    "def plot_confusion_matrix(data_x, data_y, Ypred):\n",
    "    classes = string.ascii_uppercase\n",
    "    \n",
    "    # Computation of confusion matrix on testing set\n",
    "    cm = confusion_matrix(data_y, Ypred)\n",
    "    \n",
    "    plt.imshow(cm, interpolation='nearest', cmap=plt.cm.Blues)\n",
    "    plt.title('Confusion matrix')\n",
    "    plt.colorbar()\n",
    "    tick_marks = np.arange(len(classes))\n",
    "    plt.xticks(tick_marks, classes, rotation=45)\n",
    "    plt.yticks(tick_marks, classes)\n",
    "\n",
    "    fmt = 'd'\n",
    "    thresh = cm.max() / 2.\n",
    "    for i, j in itertools.product(range(cm.shape[0]), range(cm.shape[1])):\n",
    "        plt.text(j, i, format(cm[i, j], fmt),\n",
    "                 horizontalalignment=\"center\",\n",
    "                 color=\"white\" if cm[i, j] > thresh else \"black\")\n",
    "\n",
    "    plt.ylabel('True label')\n",
    "    plt.xlabel('Predicted label')\n",
    "    plt.tight_layout()"
   ]
  },
  {
   "cell_type": "code",
   "execution_count": null,
   "metadata": {},
   "outputs": [],
   "source": [
    "#Plot confusion matrix for analyse the classification\n",
    "plt.figure(figsize=(12,6))\n",
    "plt.subplot(121)\n",
    "plot_confusion_matrix(train_x, train_y, predicted_train)\n",
    "\n",
    "plt.subplot(122)\n",
    "plot_confusion_matrix(validation_x, validation_y, predicted_validation)\n",
    "plt.show()"
   ]
  },
  {
   "cell_type": "markdown",
   "metadata": {},
   "source": [
    "## Hyperparameters study\n",
    "\n",
    "This part consist on making a study of the hyperparameters of the KNN model"
   ]
  },
  {
   "cell_type": "code",
   "execution_count": null,
   "metadata": {},
   "outputs": [],
   "source": [
    "# Model training and accuracy computation for different k values\n",
    "\n",
    "def tuning_parameter_new_knn(start_value, end_value, N):\n",
    "    values = [i for i in range(start_value, end_value)]\n",
    "    accs_train = []\n",
    "    accs_validation  = []\n",
    "\n",
    "    for neighbors in values:\n",
    "\n",
    "        prediction_train = []\n",
    "        prediction_validation = []\n",
    "\n",
    "        prediction_train = kk.kNearestNeighbor(train_x, train_y, train_x, train_y, neighbors)\n",
    "        accs_train.append(accuracy_score(train_y, prediction_train))\n",
    "\n",
    "        prediction_validation = kk.kNearestNeighbor(train_x, train_y, validation_x, validation_y, neighbors)\n",
    "        accs_validation.append(accuracy_score(validation_y, prediction_validation))\n",
    "\n",
    "    plt.figure(figsize=(16, 8))\n",
    "\n",
    "    print(\"Optimal number for k: \" + str(values[np.argmax(accs_validation)]))\n",
    "\n",
    "    # Draw accuracies as a function of the depth for both trainin and testing sets\n",
    "    plt.plot(values, accs_train, label = 'Train Accuracy')\n",
    "    plt.plot(values, accs_validation,  label = 'Validation Accuracy')\n",
    "    plt.ylabel('Accuracy')\n",
    "    plt.xlabel('Number of k neighbors')\n",
    "    plt.legend()\n",
    "    plt.xticks(values)\n",
    "    plt.show()  "
   ]
  },
  {
   "cell_type": "code",
   "execution_count": 19,
   "metadata": {},
   "outputs": [
    {
     "name": "stdout",
     "output_type": "stream",
     "text": [
      "Optimal number for k: 1\n"
     ]
    },
    {
     "data": {
      "image/png": "[encoded data removed]",
      "text/plain": [
       "<Figure size 1152x576 with 1 Axes>"
      ]
     },
     "metadata": {
      "needs_background": "light"
     },
     "output_type": "display_data"
    },
    {
     "name": "stdout",
     "output_type": "stream",
     "text": [
      "CPU times: user 4min 27s, sys: 292 ms, total: 4min 27s\n",
      "Wall time: 4min 27s\n"
     ]
    }
   ],
   "source": [
    "%%time \n",
    "\n",
    "tuning_parameter_new_knn(2, 5, 2000)"
   ]
  },
  {
   "cell_type": "markdown",
   "metadata": {},
   "source": [
    "## **Best K-Nearest Neighbors model**\n",
    "\n",
    "Finally after making the study of the hyperparameters we make another study to see the gain in performance"
   ]
  },
  {
   "cell_type": "code",
   "execution_count": null,
   "metadata": {},
   "outputs": [],
   "source": [
    "%%time \n",
    "\n",
    "best_predicted_train = knn_train(2000, 5)"
   ]
  },
  {
   "cell_type": "code",
   "execution_count": null,
   "metadata": {},
   "outputs": [],
   "source": [
    "W = 2000/6\n",
    "test_x = img_train[:W]\n",
    "test_y = label_train[:W]\n"
   ]
  },
  {
   "cell_type": "code",
   "execution_count": null,
   "metadata": {},
   "outputs": [],
   "source": [
    "def knn_test(N, n_neighbors):  \n",
    "    #Predict the results of the train dataset\n",
    "    predicted = kk.kNearestNeighbor(train_x, train_y, test_x, test_y, n_neighbors)\n",
    "\n",
    "    print(\"The train accuracy is: \" + str(accuracy_score(test_y, predicted)))\n",
    "    \n",
    "    return predicted"
   ]
  },
  {
   "cell_type": "code",
   "execution_count": null,
   "metadata": {},
   "outputs": [],
   "source": [
    "%%time \n",
    "\n",
    "predicted_test = knn_test(2000, 5)"
   ]
  },
  {
   "cell_type": "code",
   "execution_count": null,
   "metadata": {},
   "outputs": [],
   "source": [
    "#Plot confusion matrix for analyse the classification\n",
    "plt.figure(figsize=(12,6))\n",
    "plt.subplot(121)\n",
    "plot_confusion_matrix(train_x, train_y, best_predicted_train)\n",
    "\n",
    "plt.subplot(122)\n",
    "plot_confusion_matrix(test_x, test_y, predicted_test)\n",
    "plt.show()"
   ]
  },
  {
   "cell_type": "code",
   "execution_count": null,
   "metadata": {},
   "outputs": [],
   "source": []
  },
  {
   "cell_type": "code",
   "execution_count": null,
   "metadata": {},
   "outputs": [],
   "source": []
  }
 ],
 "metadata": {
  "kernelspec": {
   "display_name": "Python 2",
   "language": "python",
   "name": "python2"
  },
  "language_info": {
   "codemirror_mode": {
    "name": "ipython",
    "version": 2
   },
   "file_extension": ".py",
   "mimetype": "text/x-python",
   "name": "python",
   "nbconvert_exporter": "python",
   "pygments_lexer": "ipython2",
   "version": "2.7.15+"
  }
 },
 "nbformat": 4,
 "nbformat_minor": 2
}
