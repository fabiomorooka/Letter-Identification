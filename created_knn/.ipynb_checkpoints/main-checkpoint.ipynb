{
 "cells": [
  {
   "cell_type": "markdown",
   "metadata": {},
   "source": [
    "# **Letter classification study using the K Nearest Neighbors model**"
   ]
  },
  {
   "cell_type": "markdown",
   "metadata": {},
   "source": [
    "## **Introduction**\n",
    "\n",
    "This is the main study of a letter classification using the EMNIST letters database avaiable in https://www.nist.gov/itl/products-and-services/emnist-dataset"
   ]
  },
  {
   "cell_type": "markdown",
   "metadata": {},
   "source": [
    "## **Reading the dataset**\n",
    "\n",
    "This part contains the functions to read the dataset saved in the \".npy\" files to use it in the machine learning algorithm created"
   ]
  },
  {
   "cell_type": "code",
   "execution_count": 1,
   "metadata": {},
   "outputs": [],
   "source": [
    "import numpy as np"
   ]
  },
  {
   "cell_type": "code",
   "execution_count": 2,
   "metadata": {},
   "outputs": [],
   "source": [
    "def transform_dataset(dataset):\n",
    "    labels = []\n",
    "    letters = []\n",
    "    for row in dataset:\n",
    "        labels.append(row[-1])\n",
    "        letters.append(np.array(row[:-1]))\n",
    "           \n",
    "    return labels, letters      "
   ]
  },
  {
   "cell_type": "code",
   "execution_count": 3,
   "metadata": {},
   "outputs": [
    {
     "name": "stdout",
     "output_type": "stream",
     "text": [
      "Loading Train dataset...\n",
      "Finished loading train dataset!\n",
      "CPU times: user 484 ms, sys: 446 ms, total: 930 ms\n",
      "Wall time: 927 ms\n"
     ]
    }
   ],
   "source": [
    "%%time\n",
    "\n",
    "print(\"Loading Train dataset...\")\n",
    "train_array = np.load('./../train.npy')\n",
    "label_train, img_train = transform_dataset(train_array)\n",
    "print(\"Finished loading train dataset!\")"
   ]
  },
  {
   "cell_type": "code",
   "execution_count": 4,
   "metadata": {},
   "outputs": [
    {
     "name": "stdout",
     "output_type": "stream",
     "text": [
      "Loading Test dataset...\n",
      "Finished loading test dataset!\n",
      "CPU times: user 28.8 ms, sys: 15.7 ms, total: 44.4 ms\n",
      "Wall time: 43.6 ms\n"
     ]
    }
   ],
   "source": [
    "%%time\n",
    "\n",
    "print(\"Loading Test dataset...\")\n",
    "test_array = np.load('./../test.npy')\n",
    "label_test, img_test = transform_dataset(test_array)\n",
    "print(\"Finished loading test dataset!\")"
   ]
  },
  {
   "cell_type": "code",
   "execution_count": 7,
   "metadata": {},
   "outputs": [
    {
     "name": "stdout",
     "output_type": "stream",
     "text": [
      "Loading Validation dataset...\n",
      "Finished loading validation dataset!\n",
      "CPU times: user 63.7 ms, sys: 69.5 ms, total: 133 ms\n",
      "Wall time: 136 ms\n"
     ]
    }
   ],
   "source": [
    "%%time\n",
    "\n",
    "print(\"Loading Validation dataset...\")\n",
    "validation_array = np.load('./../validation.npy')\n",
    "label_validation, img_validation = transform_dataset(validation_array)\n",
    "print(\"Finished loading validation dataset!\")"
   ]
  },
  {
   "cell_type": "markdown",
   "metadata": {},
   "source": [
    "## **K-Nearest Neighbors algorithm created**\n",
    "\n",
    "This section is presented the algorithme developped."
   ]
  },
  {
   "cell_type": "code",
   "execution_count": 50,
   "metadata": {},
   "outputs": [],
   "source": [
    "import knn\n",
    "from sklearn.metrics import accuracy_score"
   ]
  },
  {
   "cell_type": "code",
   "execution_count": 77,
   "metadata": {},
   "outputs": [
    {
     "name": "stdout",
     "output_type": "stream",
     "text": [
      "Train dataset has: 120000 letters\n",
      "Validation dataset has: 16400 letters\n"
     ]
    }
   ],
   "source": [
    "print(\"Train dataset has: \" + str(len(img_train)) + \" letters\")\n",
    "print(\"Validation dataset has: \" + str(len(img_validation)) + \" letters\")"
   ]
  },
  {
   "cell_type": "code",
   "execution_count": 51,
   "metadata": {},
   "outputs": [],
   "source": [
    "# N = number of letters used in the train dataset\n",
    "# M = number of letters used in the validation dataset\n",
    "\n",
    "N = 10000\n",
    "M = 20\n",
    "train_x = img_train[:N]\n",
    "train_y = label_train[:N]\n",
    "validation_x = img_validation[:M]\n",
    "validation_y = label_validation[:M]"
   ]
  },
  {
   "cell_type": "code",
   "execution_count": 52,
   "metadata": {},
   "outputs": [
    {
     "name": "stdout",
     "output_type": "stream",
     "text": [
      "The train accuracy is: 65.0%\n",
      "CPU times: user 16.6 s, sys: 64.6 ms, total: 16.7 s\n",
      "Wall time: 16.6 s\n"
     ]
    }
   ],
   "source": [
    "%%time \n",
    "\n",
    "def knn_train(neighbor):\n",
    "    predicted = knn.k_nearest_neighbors(train_array[:N], train_array[:M], neighbor)\n",
    "    \n",
    "    print(\"The train accuracy is: \" + str(round((accuracy_score(train_y[:M], predicted) * 100), 3)) + \"%\")\n",
    "    \n",
    "    return predicted\n",
    "    \n",
    "predicted_train = knn_train(5)"
   ]
  },
  {
   "cell_type": "code",
   "execution_count": 53,
   "metadata": {},
   "outputs": [
    {
     "name": "stdout",
     "output_type": "stream",
     "text": [
      "The validation accuracy is: 70.0%\n",
      "CPU times: user 17.8 s, sys: 47.6 ms, total: 17.9 s\n",
      "Wall time: 17.8 s\n"
     ]
    }
   ],
   "source": [
    "%%time \n",
    "\n",
    "def knn_validation():\n",
    "    predicted = knn.k_nearest_neighbors(train_array[:N], validation_array[:M], 5)\n",
    "\n",
    "    print(\"The validation accuracy is: \" + str(round((accuracy_score(validation_y[:M], predicted) * 100), 3)) + \"%\")\n",
    "    return predicted\n",
    "\n",
    "predicted_validation = knn_validation()"
   ]
  },
  {
   "cell_type": "markdown",
   "metadata": {},
   "source": [
    "## **Visualizing the study**\n",
    "\n",
    "This part consist a better visualization of the study done to better analyse the classifier"
   ]
  },
  {
   "cell_type": "code",
   "execution_count": 54,
   "metadata": {},
   "outputs": [],
   "source": [
    "import matplotlib.pyplot as plt \n",
    "import itertools\n",
    "from sklearn.metrics import confusion_matrix\n",
    "import string"
   ]
  },
  {
   "cell_type": "code",
   "execution_count": 55,
   "metadata": {},
   "outputs": [],
   "source": [
    "def plot_confusion_matrix(data_x, data_y, Ypred):\n",
    "    classes = string.ascii_uppercase\n",
    "    \n",
    "    # Computation of confusion matrix on testing set\n",
    "    cm = confusion_matrix(data_y, Ypred)\n",
    "    \n",
    "    plt.imshow(cm, interpolation='nearest', cmap=plt.cm.Blues)\n",
    "    plt.title('Confusion matrix')\n",
    "    plt.colorbar()\n",
    "    tick_marks = np.arange(len(classes))\n",
    "    plt.xticks(tick_marks, classes, rotation=45)\n",
    "    plt.yticks(tick_marks, classes)\n",
    "\n",
    "    fmt = 'd'\n",
    "    thresh = cm.max() / 2.\n",
    "    for i, j in itertools.product(range(cm.shape[0]), range(cm.shape[1])):\n",
    "        plt.text(j, i, format(cm[i, j], fmt),\n",
    "                 horizontalalignment=\"center\",\n",
    "                 color=\"white\" if cm[i, j] > thresh else \"black\")\n",
    "\n",
    "    plt.ylabel('True label')\n",
    "    plt.xlabel('Predicted label')\n",
    "    plt.tight_layout()"
   ]
  },
  {
   "cell_type": "code",
   "execution_count": 56,
   "metadata": {},
   "outputs": [
    {
     "data": {
      "image/png": "[encoded data removed]",
      "text/plain": [
       "<Figure size 864x432 with 4 Axes>"
      ]
     },
     "metadata": {
      "needs_background": "light"
     },
     "output_type": "display_data"
    }
   ],
   "source": [
    "#Plot confusion matrix for analyse the classification\n",
    "plt.figure(figsize=(12,6))\n",
    "plt.subplot(121)\n",
    "plot_confusion_matrix(train_x[:M], train_y[:M], predicted_train)\n",
    "\n",
    "plt.subplot(122)\n",
    "plot_confusion_matrix(validation_x, validation_y, predicted_validation)\n",
    "plt.show()"
   ]
  },
  {
   "cell_type": "markdown",
   "metadata": {},
   "source": [
    "## Hyperparameters study\n",
    "\n",
    "This part consist on making a study of the hyperparameters of the KNN model"
   ]
  },
  {
   "cell_type": "code",
   "execution_count": 57,
   "metadata": {},
   "outputs": [],
   "source": [
    "# Model training and accuracy computation for different k values\n",
    "\n",
    "def tuning_parameter_new_knn(start_value, end_value, N):\n",
    "    values = [i for i in range(start_value, end_value)]\n",
    "    accs_train = []\n",
    "    accs_validation  = []\n",
    "\n",
    "    for neighbors in values:\n",
    "\n",
    "        prediction_train = []\n",
    "        prediction_validation = []\n",
    "\n",
    "        prediction_train = knn.k_nearest_neighbors(train_array[:N], train_array[:M], neighbors)\n",
    "        accs_train.append(accuracy_score(train_y[:M], prediction_train))\n",
    "\n",
    "        prediction_validation = knn.k_nearest_neighbors(train_array[:N], train_array[:M], neighbors)\n",
    "        accs_validation.append(accuracy_score(validation_y, prediction_validation))\n",
    "\n",
    "    plt.figure(figsize=(16, 8))\n",
    "\n",
    "    print(\"Optimal number for k: \" + str(values[np.argmax(accs_validation)]))\n",
    "\n",
    "    # Draw accuracies as a function of the depth for both trainin and testing sets\n",
    "    plt.plot(values, accs_train, label = 'Train Accuracy')\n",
    "    plt.plot(values, accs_validation,  label = 'Validation Accuracy')\n",
    "    plt.ylabel('Accuracy')\n",
    "    plt.xlabel('Number of k neighbors')\n",
    "    plt.legend()\n",
    "    plt.xticks(values)\n",
    "    plt.show()  "
   ]
  },
  {
   "cell_type": "code",
   "execution_count": 58,
   "metadata": {},
   "outputs": [
    {
     "name": "stdout",
     "output_type": "stream",
     "text": [
      "Optimal number for k: 3\n"
     ]
    },
    {
     "data": {
      "image/png": "[encoded data removed]",
      "text/plain": [
       "<Figure size 1152x576 with 1 Axes>"
      ]
     },
     "metadata": {
      "needs_background": "light"
     },
     "output_type": "display_data"
    },
    {
     "name": "stdout",
     "output_type": "stream",
     "text": [
      "CPU times: user 1min 50s, sys: 619 ms, total: 1min 51s\n",
      "Wall time: 1min 50s\n"
     ]
    }
   ],
   "source": [
    "%%time \n",
    "\n",
    "tuning_parameter_new_knn(2, 5, 2000)"
   ]
  },
  {
   "cell_type": "markdown",
   "metadata": {},
   "source": [
    "## **Best K-Nearest Neighbors model**\n",
    "\n",
    "Finally after making the study of the hyperparameters we make another study to see the gain in performance"
   ]
  },
  {
   "cell_type": "code",
   "execution_count": 70,
   "metadata": {},
   "outputs": [],
   "source": [
    "neighbor = 3"
   ]
  },
  {
   "cell_type": "code",
   "execution_count": 71,
   "metadata": {},
   "outputs": [
    {
     "name": "stdout",
     "output_type": "stream",
     "text": [
      "The train accuracy is: 80.0%\n",
      "CPU times: user 15.6 s, sys: 43.6 ms, total: 15.7 s\n",
      "Wall time: 15.6 s\n"
     ]
    }
   ],
   "source": [
    "%%time \n",
    "\n",
    "best_predicted_train = knn_train(neighbor)"
   ]
  },
  {
   "cell_type": "code",
   "execution_count": 79,
   "metadata": {},
   "outputs": [
    {
     "name": "stdout",
     "output_type": "stream",
     "text": [
      "Test dataset has: 4100 letters\n"
     ]
    }
   ],
   "source": [
    "print(\"Test dataset has: \" + str(len(img_test)) + \" letters\")"
   ]
  },
  {
   "cell_type": "code",
   "execution_count": 80,
   "metadata": {},
   "outputs": [],
   "source": [
    "W = 20\n",
    "test_x = img_test[:W]\n",
    "test_y = label_test[:W]"
   ]
  },
  {
   "cell_type": "code",
   "execution_count": 73,
   "metadata": {},
   "outputs": [],
   "source": [
    "def knn_test(N, n_neighbors):  \n",
    "    #Predict the results of the train dataset\n",
    "    predicted = knn.k_nearest_neighbors(train_array[:N], test_array[:W], n_neighbors)\n",
    "\n",
    "    print(\"The test accuracy is: \" + str(accuracy_score(test_y[:W], predicted)))\n",
    "    \n",
    "    return predicted"
   ]
  },
  {
   "cell_type": "code",
   "execution_count": 74,
   "metadata": {},
   "outputs": [
    {
     "name": "stdout",
     "output_type": "stream",
     "text": [
      "The test accuracy is: 0.5\n",
      "CPU times: user 18.9 s, sys: 51.5 ms, total: 19 s\n",
      "Wall time: 18.9 s\n"
     ]
    }
   ],
   "source": [
    "%%time \n",
    "\n",
    "predicted_test = knn_test(2000, neighbor)"
   ]
  },
  {
   "cell_type": "code",
   "execution_count": 75,
   "metadata": {},
   "outputs": [
    {
     "data": {
      "image/png": "[encoded data removed]",
      "text/plain": [
       "<Figure size 864x432 with 4 Axes>"
      ]
     },
     "metadata": {
      "needs_background": "light"
     },
     "output_type": "display_data"
    }
   ],
   "source": [
    "#Plot confusion matrix for analyse the classification\n",
    "plt.figure(figsize=(12,6))\n",
    "plt.subplot(121)\n",
    "plot_confusion_matrix(train_x[:M], train_y[:M], predicted_train)\n",
    "\n",
    "plt.subplot(122)\n",
    "plot_confusion_matrix(test_x, test_y, predicted_test)\n",
    "plt.show()"
   ]
  },
  {
   "cell_type": "code",
   "execution_count": null,
   "metadata": {},
   "outputs": [],
   "source": []
  },
  {
   "cell_type": "code",
   "execution_count": null,
   "metadata": {},
   "outputs": [],
   "source": []
  },
  {
   "cell_type": "code",
   "execution_count": null,
   "metadata": {},
   "outputs": [],
   "source": []
  },
  {
   "cell_type": "markdown",
   "metadata": {},
   "source": [
    "# RASCUNHO!!!!!!!!!!!!!!!!!!!!!!!!!!!!!!!!!!!!"
   ]
  },
  {
   "cell_type": "code",
   "execution_count": null,
   "metadata": {},
   "outputs": [],
   "source": [
    "N = 2000\n",
    "M = 2000/8\n",
    "train_x = img_train[:N]\n",
    "train_y = label_train[:N]\n",
    "validation_x = img_validation[:M]\n",
    "validation_y = label_validation[:M]\n",
    "\n",
    "def knn_train(N, n_neighbors):  \n",
    "    #Predict the results of the train dataset\n",
    "    predicted = kk.kNearestNeighbor(train_x, train_y, train_x, train_y, n_neighbors)\n",
    "\n",
    "    print(\"The train accuracy is: \" + str(accuracy_score(train_y, predicted)))\n",
    "    \n",
    "    return predicted\n",
    "\n",
    "def knn_validation(N, n_neighbors):\n",
    "    #Predict the results of the test dataset\n",
    "    predicted = kk.kNearestNeighbor(train_x, train_y, validation_x, validation_y, n_neighbors)\n",
    "\n",
    "    print(\"The validation accuracy is: \" + str(accuracy_score(validation_y, predicted)))\n",
    "    \n",
    "    return predicted\n",
    "\n",
    "%%time \n",
    "\n",
    "predicted_train = knn_train(2000, 5)\n",
    "\n",
    "%%time \n",
    "\n",
    "predicted_validation = knn_validation(2000, 5)"
   ]
  }
 ],
 "metadata": {
  "kernelspec": {
   "display_name": "Python 2",
   "language": "python",
   "name": "python2"
  },
  "language_info": {
   "codemirror_mode": {
    "name": "ipython",
    "version": 2
   },
   "file_extension": ".py",
   "mimetype": "text/x-python",
   "name": "python",
   "nbconvert_exporter": "python",
   "pygments_lexer": "ipython2",
   "version": "2.7.15+"
  }
 },
 "nbformat": 4,
 "nbformat_minor": 2
}
