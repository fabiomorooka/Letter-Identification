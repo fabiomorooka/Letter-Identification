{
 "cells": [
  {
   "cell_type": "markdown",
   "metadata": {},
   "source": [
    "# **Take photos and create a dataset**"
   ]
  },
  {
   "cell_type": "markdown",
   "metadata": {},
   "source": [
    "Functions to use the computer's camera to take a photos of letters to after be used as tests with the classifier trained."
   ]
  },
  {
   "cell_type": "code",
   "execution_count": 1,
   "metadata": {},
   "outputs": [],
   "source": [
    "import cv2 as cv\n",
    "import numpy as np\n",
    "import matplotlib.pyplot as plt \n",
    "import os\n",
    "import sys\n",
    "import time\n",
    "from scipy import ndimage\n",
    "import string"
   ]
  },
  {
   "cell_type": "code",
   "execution_count": 2,
   "metadata": {},
   "outputs": [],
   "source": [
    "# Function to open the camera, take a photo and save the image in jpg format\n",
    "#\n",
    "# Parameters: \n",
    "# - image_name: file name of the image that will be saved\n",
    "# - path: path of the destiny folder\n",
    "#\n",
    "# Commands: \n",
    "# - \"s\": to save the frame\n",
    "# - \"q\" or \"esc\": to close the camera\n",
    "# \n",
    "# Return:\n",
    "#\n",
    "\n",
    "def take_Photo(image_name, path):\n",
    "    \n",
    "    # Verify if the file already exists\n",
    "    if os.path.isfile(image_name):\n",
    "        print(\"The file \" + str(image_name) + \" already exists! Do you want to overwrite [1], change the file name [2] or exit the program [3]? \")\n",
    "        answers = [\"1\", \"2\", \"3\"]\n",
    "        a = 10\n",
    "        while (a not in answers):\n",
    "            a = str(input())\n",
    "            if a == \"1\":\n",
    "                print(\"The image will be overwrite!\")\n",
    "            elif a == \"2\":\n",
    "                new_file_name = input(\"Give the new file name:\")\n",
    "                image_name = new_file_name\n",
    "            elif a == \"3\":\n",
    "                print(\"The program will be exit!\")\n",
    "                sys.exit()\n",
    "            else:\n",
    "                print(\"Input do not accepted! Try again!\")\n",
    "\n",
    "    # Open the camera\n",
    "    cap = cv.VideoCapture(0)\n",
    "\n",
    "    while(True):\n",
    "        \n",
    "        # Capture frame-by-frame\n",
    "        _, frame = cap.read()\n",
    "        \n",
    "        # Display the resulting frame\n",
    "        cv.imshow(\"Capturing\", frame)\n",
    "    \n",
    "        key = cv.waitKey(1)\n",
    "        \n",
    "        # Save a frame if the user press \"s\"\n",
    "        if key == ord('s'): \n",
    "            cv.imwrite(path + \"/\" + image_name, frame)\n",
    "            print(\"Image saved!\")\n",
    "            a = input(\"Do you want try again? [y/n]\")\n",
    "            if (a == \"y\") or (a == \"Y\"):\n",
    "                print(\"Try again!\")\n",
    "                pass\n",
    "            elif (a == \"n\") or (a == \"N\"):\n",
    "                print(\"Finished!\")\n",
    "                cap.release()\n",
    "                break\n",
    "            else:\n",
    "                print(\"Finished!\")\n",
    "            \n",
    "        # Press \"q\" or \"esc\" to close the camera\n",
    "        elif key == ord('q') or key == 27:\n",
    "            cap.release()\n",
    "            cv.destroyAllWindows()\n",
    "            break\n",
    "\n",
    "    # When everything done, release the capture\n",
    "    cap.release()\n",
    "    cv.destroyAllWindows()"
   ]
  },
  {
   "cell_type": "code",
   "execution_count": 4,
   "metadata": {},
   "outputs": [],
   "source": [
    "# Take a photo\n",
    "name = \"z3.jpg\"\n",
    "path = os.getcwd() + \"/letters\"\n",
    "\n",
    "take_Photo(name, path)"
   ]
  },
  {
   "cell_type": "code",
   "execution_count": null,
   "metadata": {},
   "outputs": [],
   "source": []
  },
  {
   "cell_type": "code",
   "execution_count": 3,
   "metadata": {},
   "outputs": [],
   "source": [
    "# Function to process the input image and return an image in the format to be compare with the EMNIST database\n",
    "#\n",
    "# Parameters:\n",
    "# - path: where the photo is located \n",
    "# - image_name: name of the file\n",
    "# - show: variable to show the intermediate images created in the processing. 1 -> print images, other value -> not print\n",
    "#\n",
    "# Return:\n",
    "# - image in the EMNIST format (28x28 and white letter and black background)\n",
    "\n",
    "def image_Processing(path, image_name, show):\n",
    "    \n",
    "    # read the image (BGR format)\n",
    "    image = cv.imread(path + \"/\" + image_name)\n",
    "    \n",
    "    # convert to RGB\n",
    "    image = cv.cvtColor(image, cv.COLOR_BGR2RGB)\n",
    "\n",
    "    # convert to grayscale\n",
    "    gray = cv.cvtColor(image, cv.COLOR_RGB2GRAY)\n",
    "    \n",
    "    if show == 1:\n",
    "        print(\"Printing the source image in gray scale:\")\n",
    "        plt.imshow(gray, cmap=\"gray\")\n",
    "        plt.show()\n",
    "        \n",
    "        # histogram calculation\n",
    "        print(\"Printing the gray image's histogram\")\n",
    "        histr = cv.calcHist([gray],[0],None,[256],[0,256])\n",
    "        plt.plot(histr)\n",
    "        plt.show()\n",
    "\n",
    "    # create a binary thresholded image\n",
    "    _, binary = cv.threshold(gray, 100, 255, cv.THRESH_BINARY_INV)\n",
    "\n",
    "    if show == 1:\n",
    "        print(\"Printing the binary image:\")\n",
    "        plt.imshow(binary, cmap=\"gray\")\n",
    "        plt.show()\n",
    "    \n",
    "    # find the contours from the thresholded image\n",
    "    contours, hierarchy = cv.findContours(binary, cv.RETR_TREE, cv.CHAIN_APPROX_SIMPLE)\n",
    "    \n",
    "    # calculate the contours' areas\n",
    "    contours_areas = []\n",
    "    for cnt in contours:\n",
    "        contours_areas.append(cv.contourArea(cnt))\n",
    "        \n",
    "    # ascending order list\n",
    "    contours_areas_sorted = np.sort(contours_areas)\n",
    "    \n",
    "    # the image captured have two empty spaces, one in the top and another in the bottom,\n",
    "    # so the two highest areas values is due to these spaces\n",
    "    best_cnt_area = contours_areas_sorted[-3]\n",
    "    best_cnt = contours[contours_areas.index(best_cnt_area)]\n",
    "\n",
    "    # compute the bounding box\n",
    "    (x, y, w, h) = cv.boundingRect(best_cnt) \n",
    "\n",
    "    # extract the region of interest (ROI) using the informations of the bounding box\n",
    "    diceROI = binary[y-40 : y+h+40, x-40 : x+w+40] \n",
    "    \n",
    "    if show == 1:\n",
    "        print(\"Printing the region of intest:\")\n",
    "        plt.imshow(diceROI, cmap=\"gray\")\n",
    "        plt.show()\n",
    "\n",
    "    # calculate the center of mass, the height and the width of the ROI\n",
    "    centre_h, centre_w = ndimage.measurements.center_of_mass(diceROI)\n",
    "    h, w = diceROI.shape\n",
    "    \n",
    "    # if image superior to standard (28x28)\n",
    "    resized_image = []\n",
    "    if h or w > 28 :\n",
    "        resized_image = cv.resize(diceROI,(28,28),interpolation=cv.INTER_AREA)\n",
    "        if show == 1:\n",
    "            print(\"Printing the resized image:\")\n",
    "            plt.imshow(resized_image, cmap=\"gray\")\n",
    "            plt.show()\n",
    "\n",
    "    # apply a threshold again because the resize change the binary image\n",
    "    _, binary2 = cv.threshold(resized_image, 50, 255, cv.THRESH_BINARY)\n",
    "    \n",
    "    if show == 1:\n",
    "        print(\"Printing the image after the second binarization:\")\n",
    "        plt.imshow(binary2, cmap=\"gray\")\n",
    "        plt.show()\n",
    "\n",
    "    # apply a dilation to make lines more visiable\n",
    "    kernel = np.ones((1,1),np.uint8)\n",
    "    dilation = cv.dilate(binary2,kernel,iterations = 1) \n",
    "    \n",
    "    return dilation"
   ]
  },
  {
   "cell_type": "code",
   "execution_count": 4,
   "metadata": {
    "scrolled": true
   },
   "outputs": [
    {
     "name": "stdout",
     "output_type": "stream",
     "text": [
      "Printing the new image to test:\n"
     ]
    },
    {
     "data": {
      "image/png": "[encoded data removed]",
      "text/plain": [
       "<Figure size 432x288 with 1 Axes>"
      ]
     },
     "metadata": {
      "needs_background": "light"
     },
     "output_type": "display_data"
    }
   ],
   "source": [
    "# Image processing\n",
    "path = os.getcwd() + '/letters'\n",
    "photo = \"a.jpg\"\n",
    "\n",
    "new_image = image_Processing(path, photo, 0)\n",
    "\n",
    "print(\"Printing the new image to test:\")\n",
    "plt.imshow(new_image, cmap=\"gray\")\n",
    "plt.show()"
   ]
  },
  {
   "cell_type": "code",
   "execution_count": null,
   "metadata": {},
   "outputs": [],
   "source": []
  },
  {
   "cell_type": "code",
   "execution_count": 5,
   "metadata": {},
   "outputs": [],
   "source": [
    "# Link the source image to the corresponding target\n",
    "#\n",
    "# Parameters:\n",
    "# - position: position of the photo in the name_list list\n",
    "# - name_list: list with all the names of the photos in the folder \"letters\"\n",
    "# \n",
    "# Return:\n",
    "# - target: image's letter\n",
    "#\n",
    "\n",
    "def get_target(position, name_list):\n",
    "    \n",
    "    lowercase = string.ascii_lowercase\n",
    "    uppercase = string.ascii_uppercase\n",
    "    \n",
    "    photo_name = name_list[position]\n",
    "    letter = photo_name[0]\n",
    "    \n",
    "    if (letter in lowercase):\n",
    "        target = lowercase.index(letter) + 1\n",
    "    elif (letter in uppercase):\n",
    "        target = uppercase.index(letter) + 1\n",
    "    else:\n",
    "        target = 0\n",
    "    \n",
    "    return target"
   ]
  },
  {
   "cell_type": "code",
   "execution_count": 6,
   "metadata": {},
   "outputs": [],
   "source": [
    "# Function to create a dataset using the photos in the \"letters\" folder to store the pixels. The dataset created will\n",
    "# have 56 lines (number of photos taken) and 785 columns (28 x 28 + target) \n",
    "#\n",
    "# Parameters:\n",
    "# - file_dataset: name of the npy file\n",
    "#\n",
    "# Return:\n",
    "# - dataset : dataset created with the images taken\n",
    "# \n",
    "\n",
    "def create_test_dataset(file_dataset):\n",
    "\n",
    "    letters_path = os.getcwd() + \"/letters\"\n",
    "\n",
    "    # list to store the name of all the images in the folder \"letters\"\n",
    "    image_name_list = []\n",
    "    for photo_name in os.listdir(letters_path):\n",
    "        image_name_list.append(photo_name)\n",
    "\n",
    "    # list to store the results after the image processing\n",
    "    images_processed = []\n",
    "    for img in image_name_list:\n",
    "        images_processed.append(image_Processing(letters_path, img, 0))\n",
    "\n",
    "    # convert the numpy array to one line where the last column is the target\n",
    "    lines_list = []\n",
    "    pos = 0\n",
    "\n",
    "    for i in images_processed:\n",
    "        line = i.reshape(-1).tolist() # array to list and transform the matrix to 1 line with 784 columns\n",
    "        target = get_target(pos, image_name_list)\n",
    "        pos = pos +  1\n",
    "        line.append(target) # add the template\n",
    "        lines_list.append(np.asarray(line)) # list to array\n",
    "\n",
    "    # save the file\n",
    "    if os.path.isfile(file_dataset + \".npy\"):\n",
    "        print(\"The file \" + str(file_dataset) + \" already exists! Do you want to overwrite [1], change the file name [2] or exit the program [3]? \")\n",
    "        a = str(input())\n",
    "        if a == \"1\":\n",
    "            print(\"The file will be overwrite!\")\n",
    "        elif a == \"2\":\n",
    "            new_file_name = input(\"Give the new file name:\")\n",
    "            file_dataset = new_file_name\n",
    "        elif a == \"3\":\n",
    "            print(\"The program will be exit!\")\n",
    "            sys.exit()\n",
    "        else:\n",
    "            print(\"Input do not accepted! Try again!\")\n",
    "            sys.exit()\n",
    "    \n",
    "    np.save(file_dataset, lines_list)\n",
    "    print(\"The test data set was created!\")\n",
    "\n",
    "    dataset = np.load(file_dataset + '.npy')\n",
    "    \n",
    "    return dataset\n"
   ]
  },
  {
   "cell_type": "code",
   "execution_count": 7,
   "metadata": {},
   "outputs": [
    {
     "name": "stdout",
     "output_type": "stream",
     "text": [
      "The test data set was created!\n"
     ]
    }
   ],
   "source": [
    "# created dataset\n",
    "\n",
    "dataset = create_test_dataset(\"test_photos_without_data_augmentation\")"
   ]
  },
  {
   "cell_type": "code",
   "execution_count": 8,
   "metadata": {},
   "outputs": [
    {
     "data": {
      "text/plain": [
       "(52, 785)"
      ]
     },
     "execution_count": 8,
     "metadata": {},
     "output_type": "execute_result"
    }
   ],
   "source": [
    "# dataset loaded\n",
    "dataset.shape"
   ]
  },
  {
   "cell_type": "code",
   "execution_count": null,
   "metadata": {},
   "outputs": [],
   "source": []
  },
  {
   "cell_type": "code",
   "execution_count": null,
   "metadata": {},
   "outputs": [],
   "source": []
  },
  {
   "cell_type": "code",
   "execution_count": null,
   "metadata": {},
   "outputs": [],
   "source": []
  }
 ],
 "metadata": {
  "kernelspec": {
   "display_name": "Python 3",
   "language": "python",
   "name": "python3"
  },
  "language_info": {
   "codemirror_mode": {
    "name": "ipython",
    "version": 3
   },
   "file_extension": ".py",
   "mimetype": "text/x-python",
   "name": "python",
   "nbconvert_exporter": "python",
   "pygments_lexer": "ipython3",
   "version": "3.7.4"
  }
 },
 "nbformat": 4,
 "nbformat_minor": 2
}
