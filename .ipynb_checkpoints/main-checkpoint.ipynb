{
 "cells": [
  {
   "cell_type": "markdown",
   "metadata": {},
   "source": [
    "# **Letter classification algorithm**"
   ]
  },
  {
   "cell_type": "markdown",
   "metadata": {},
   "source": [
    "## **Introduction**\n",
    "\n",
    "This is the main program that makes different methods of number classification "
   ]
  },
  {
   "cell_type": "markdown",
   "metadata": {},
   "source": [
    "## **Machine Learning Algorithm**\n",
    "\n",
    "This part contains the ML algorithm with different classifiers, firt there are some functions declarations that are used to manipulate the files in the folder."
   ]
  },
  {
   "cell_type": "code",
   "execution_count": 1,
   "metadata": {},
   "outputs": [],
   "source": [
    "import csv\n",
    "import matplotlib.pyplot as plt \n",
    "import numpy as np\n",
    "from sklearn.metrics import accuracy_score\n",
    "from sklearn.tree import DecisionTreeClassifier\n",
    "import itertools\n",
    "from sklearn.metrics import confusion_matrix"
   ]
  },
  {
   "cell_type": "code",
   "execution_count": 2,
   "metadata": {},
   "outputs": [],
   "source": [
    "def read_csv(filename):\n",
    "    labels = []\n",
    "    letters = []\n",
    "    with open(filename, 'r') as csvfile:\n",
    "        spamreader = csv.reader(csvfile, delimiter=',', quotechar='|', quoting=csv.QUOTE_NONNUMERIC) \n",
    "        for row in spamreader:\n",
    "            labels.append(row[-1])\n",
    "            letters.append(np.array(row[:-1]))\n",
    "           \n",
    "    return labels, letters      "
   ]
  },
  {
   "cell_type": "code",
   "execution_count": 3,
   "metadata": {},
   "outputs": [
    {
     "name": "stdout",
     "output_type": "stream",
     "text": [
      "Loading Training dataset...\n",
      "Loading Testing dataset...\n",
      "Finished loading!\n"
     ]
    }
   ],
   "source": [
    "print(\"Loading Training dataset...\")\n",
    "label_train, img_train = read_csv(\"emnist_train.csv\")\n",
    "\n",
    "print(\"Loading Testing dataset...\")\n",
    "label_test, img_test = read_csv(\"emnist_test.csv\")\n",
    "\n",
    "print(\"Finished loading!\")"
   ]
  },
  {
   "cell_type": "code",
   "execution_count": 3,
   "metadata": {},
   "outputs": [],
   "source": [
    "def test(clf):\n",
    "    # Train on the first 50000 images:\n",
    "    train_x = img_train[:90000]\n",
    "    train_y = label_train[:90000]\n",
    "\n",
    "    clf.fit(train_x, train_y)\n",
    "    \n",
    "    # Test on the next 5000 images:\n",
    "    test_x = img_test[:5000]\n",
    "    expected = [int(i) for i in label_test[0:len(img_test[:5000])]]\n",
    "\n",
    "    predicted = clf.predict(test_x)\n",
    "\n",
    "    print(\"The accuracy is: \" + str(accuracy_score(expected, predicted)))"
   ]
  },
  {
   "cell_type": "code",
   "execution_count": 19,
   "metadata": {},
   "outputs": [
    {
     "name": "stdout",
     "output_type": "stream",
     "text": [
      "Decision Tree model\n",
      "The accuracy is: 0.6818\n"
     ]
    }
   ],
   "source": [
    "def DecisionTree():\n",
    "    print(\"Decision Tree model\")\n",
    "    clf = DecisionTreeClassifier(random_state = 0, max_depth = 100)\n",
    "\n",
    "    test(clf)\n",
    "    \n",
    "DecisionTree()"
   ]
  },
  {
   "cell_type": "markdown",
   "metadata": {},
   "source": [
    "# **Model evaluation**\n",
    "\n",
    "## **Tuning parameter and Confusion Matrix**\n",
    "\n",
    "This part contains...\n",
    "This part contains the confusion matrix for each classification to better visualize the results\n"
   ]
  },
  {
   "cell_type": "code",
   "execution_count": 4,
   "metadata": {},
   "outputs": [],
   "source": [
    "def plot_confusion_matrix(cm, classes,title='Confusion matrix',cmap=plt.cm.Blues):\n",
    "    plt.imshow(cm, interpolation='nearest', cmap=cmap)\n",
    "    plt.title(title)\n",
    "    plt.colorbar()\n",
    "    tick_marks = np.arange(len(classes))\n",
    "    plt.xticks(tick_marks, classes, rotation=45)\n",
    "    plt.yticks(tick_marks, classes)\n",
    "\n",
    "    fmt = 'd'\n",
    "    thresh = cm.max() / 2.\n",
    "    for i, j in itertools.product(range(cm.shape[0]), range(cm.shape[1])):\n",
    "        plt.text(j, i, format(cm[i, j], fmt),\n",
    "                 horizontalalignment=\"center\",\n",
    "                 color=\"white\" if cm[i, j] > thresh else \"black\")\n",
    "\n",
    "    plt.ylabel('True label')\n",
    "    plt.xlabel('Predicted label')\n",
    "    plt.tight_layout()"
   ]
  },
  {
   "cell_type": "code",
   "execution_count": null,
   "metadata": {},
   "outputs": [],
   "source": [
    "# Model training and accuracy computation for different maximum_depth parameters\n",
    "tree_depth = [i for i in range(2, 30)]\n",
    "accs_train = []\n",
    "accs_test  = []\n",
    "\n",
    "train_x = img_train[:90000]\n",
    "train_y = label_train[:90000]\n",
    "\n",
    "test_x = img_test[:2500]\n",
    "test_y = label_test[:2500]\n",
    "\n",
    "for depth in tree_depth:\n",
    "    clf = DecisionTreeClassifier(random_state = 0, max_depth = depth)\n",
    "    clf.fit(train_x, train_y)\n",
    "    accs_train.append(clf.score(train_x, train_y))\n",
    "    accs_test.append(clf.score(test_x, test_y))\n",
    "plt.figure(figsize=(16, 8))\n",
    "\n",
    "print(\"Tree depth: \" + str(tree_depth[np.argmax(accs_test)]))\n",
    "\n",
    "# Draw accuracies as a function of the depth for both trainin and testing sets\n",
    "plt.plot(tree_depth, accs_train, label = 'Train Accuracy')\n",
    "plt.plot(tree_depth, accs_test,  label = 'Test Accuracy')\n",
    "plt.ylabel('Accuracy')\n",
    "plt.xlabel('Tree Depth')\n",
    "plt.legend()\n",
    "plt.xticks(tree_depth)\n",
    "plt.show()  "
   ]
  },
  {
   "cell_type": "code",
   "execution_count": null,
   "metadata": {},
   "outputs": [],
   "source": [
    "class_names = ['1', '2', '3', '4', '5', '6', '7', '8', '9', '10', '11', '12', '13', '14', '15', '16', '17', '18', '19', '20', '21', '22', '23', '24', '25', '26'] \n",
    "plt.figure(figsize=(12,6))\n",
    "\n",
    "Ypred_train = clf.predict(train_x)\n",
    "Ypred_test = clf.predict(test_x)\n",
    "\n",
    "'''\n",
    "# Computation of confusion matrix on training set\n",
    "cm = confusion_matrix(train_y, Ypred_train)\n",
    "plt.subplot(121)\n",
    "plot_confusion_matrix(cm, classes=class_names,title='Confusion matrix, Training Set')\n",
    "'''\n",
    "\n",
    "'''\n",
    "# Computation of confusion matrix on testing set\n",
    "cm = confusion_matrix(test_y, Ypred_test)\n",
    "plt.subplot(121)\n",
    "plot_confusion_matrix(cm, classes=class_names,title='Confusion matrix, Testing Set')\n",
    "plt.show()\n",
    "'''\n",
    "\n",
    "# Computation of confusion matrix on testing set\n",
    "cm = confusion_matrix(test_y, Ypred_test)\n",
    "#plt.subplot(122)\n",
    "plot_confusion_matrix(cm, classes=class_names,title='Confusion matrix, Testing Set 2')\n",
    "plt.show()"
   ]
  },
  {
   "cell_type": "code",
   "execution_count": null,
   "metadata": {},
   "outputs": [],
   "source": []
  },
  {
   "cell_type": "code",
   "execution_count": null,
   "metadata": {},
   "outputs": [],
   "source": []
  },
  {
   "cell_type": "code",
   "execution_count": null,
   "metadata": {},
   "outputs": [],
   "source": []
  },
  {
   "cell_type": "markdown",
   "metadata": {},
   "source": [
    "## **K-Nearest Neighbours algorithm created**\n",
    "\n",
    "This section is presented the algorithme developped."
   ]
  },
  {
   "cell_type": "code",
   "execution_count": 5,
   "metadata": {},
   "outputs": [],
   "source": [
    "import kk"
   ]
  },
  {
   "cell_type": "code",
   "execution_count": 6,
   "metadata": {},
   "outputs": [
    {
     "name": "stdout",
     "output_type": "stream",
     "text": [
      "\n",
      "The accuracy of OUR classifier is 57%\n",
      "CPU times: user 7.67 s, sys: 15.2 ms, total: 7.69 s\n",
      "Wall time: 7.71 s\n"
     ]
    }
   ],
   "source": [
    "%%time\n",
    "\n",
    "from sklearn.metrics import accuracy_score\n",
    "\n",
    "train_x = img_train[:1000]\n",
    "train_y = label_train[:1000]\n",
    "\n",
    "test_x = img_test[:500]\n",
    "test_y = label_test[:500]\n",
    "\n",
    "predictions = kk.kNearestNeighbor(train_x, train_y, test_x, test_y, 7)\n",
    "\n",
    "# evaluating accuracy\n",
    "accuracy = accuracy_score(test_y, predictions) * 100\n",
    "print('\\nThe accuracy of OUR classifier is %d%%' % accuracy)\n"
   ]
  },
  {
   "cell_type": "code",
   "execution_count": 7,
   "metadata": {},
   "outputs": [
    {
     "data": {
      "image/png": "[encoded data removed]",
      "text/plain": [
       "<Figure size 864x432 with 2 Axes>"
      ]
     },
     "metadata": {
      "needs_background": "light"
     },
     "output_type": "display_data"
    }
   ],
   "source": [
    "from sklearn.metrics import confusion_matrix\n",
    "\n",
    "class_names = ['1', '2', '3', '4', '5', '6', '7', '8', '9', '10', '11', '12', '13', '14', '15', '16', '17', '18', '19', '20', '21', '22', '23', '24', '25', '26'] \n",
    "plt.figure(figsize=(12,6))\n",
    "\n",
    "# Computation of confusion matrix on training set\n",
    "train_predictions = kk.kNearestNeighbor(train_x, train_y, train_x, train_y, 7)\n",
    "cm = confusion_matrix(test_y, train_predictions)\n",
    "plt.subplot(121)\n",
    "plot_confusion_matrix(cm, classes=class_names,title='Confusion matrix, Testing Set 2')\n",
    "\n",
    "\n",
    "# Computation of confusion matrix on testing set\n",
    "cm = confusion_matrix(test_y, predictions)\n",
    "plt.subplot(122)\n",
    "plot_confusion_matrix(cm, classes=class_names,title='Confusion matrix, Testing Set 2')\n",
    "plt.show()"
   ]
  },
  {
   "cell_type": "code",
   "execution_count": 9,
   "metadata": {},
   "outputs": [
    {
     "ename": "NameError",
     "evalue": "name 'kNearestNeighbor' is not defined",
     "output_type": "error",
     "traceback": [
      "\u001b[0;31m-----------------------------------------------------------------------\u001b[0m",
      "\u001b[0;31mNameError\u001b[0m                             Traceback (most recent call last)",
      "\u001b[0;32m<ipython-input-9-a1a67a7bb43f>\u001b[0m in \u001b[0;36m<module>\u001b[0;34m()\u001b[0m\n\u001b[0;32m----> 1\u001b[0;31m \u001b[0mget_ipython\u001b[0m\u001b[0;34m(\u001b[0m\u001b[0;34m)\u001b[0m\u001b[0;34m.\u001b[0m\u001b[0mrun_cell_magic\u001b[0m\u001b[0;34m(\u001b[0m\u001b[0;34mu'time'\u001b[0m\u001b[0;34m,\u001b[0m \u001b[0;34mu''\u001b[0m\u001b[0;34m,\u001b[0m \u001b[0;34mu'\\n# Model training and accuracy computation for different k values\\nk_values = [i for i in range(1, 30)]\\naccs_train = []\\naccs_test  = []\\n\\ntrain_x = img_train[:1000]\\ntrain_y = label_train[:1000]\\n\\ntest_x = img_test[:500]\\ntest_y = label_test[:500]\\n\\nfor k in k_values:\\n\\n    predictions_train = []\\n    predictions_test = []\\n\\n    predictions_train = kk.kNearestNeighbor(train_x, train_y, train_x, train_y, k)\\n    accs_train.append(accuracy_score(train_y, predictions_train))\\n\\n    predictions_test = kNearestNeighbor(train_x, train_y, test_x, test_y, k)\\n    accs_test.append(accuracy_score(test_y, predictions_test))\\n\\nplt.figure(figsize=(16, 8))\\n\\nprint(\"Optimal number for k: \" + str(k_values[np.argmax(accs_test)]))\\n\\n# Draw accuracies as a function of the depth for both trainin and testing sets\\nplt.plot(k_values, accs_train, label = \\'Train Accuracy\\')\\nplt.plot(k_values, accs_test,  label = \\'Test Accuracy\\')\\nplt.ylabel(\\'Accuracy\\')\\nplt.xlabel(\\'Number of k\\')\\nplt.legend()\\nplt.xticks(k_values)\\nplt.show()  '\u001b[0m\u001b[0;34m)\u001b[0m\u001b[0;34m\u001b[0m\u001b[0;34m\u001b[0m\u001b[0m\n\u001b[0m",
      "\u001b[0;32m/home/morooka/.local/lib/python2.7/site-packages/IPython/core/interactiveshell.pyc\u001b[0m in \u001b[0;36mrun_cell_magic\u001b[0;34m(self, magic_name, line, cell)\u001b[0m\n\u001b[1;32m   2115\u001b[0m             \u001b[0mmagic_arg_s\u001b[0m \u001b[0;34m=\u001b[0m \u001b[0mself\u001b[0m\u001b[0;34m.\u001b[0m\u001b[0mvar_expand\u001b[0m\u001b[0;34m(\u001b[0m\u001b[0mline\u001b[0m\u001b[0;34m,\u001b[0m \u001b[0mstack_depth\u001b[0m\u001b[0;34m)\u001b[0m\u001b[0;34m\u001b[0m\u001b[0;34m\u001b[0m\u001b[0m\n\u001b[1;32m   2116\u001b[0m             \u001b[0;32mwith\u001b[0m \u001b[0mself\u001b[0m\u001b[0;34m.\u001b[0m\u001b[0mbuiltin_trap\u001b[0m\u001b[0;34m:\u001b[0m\u001b[0;34m\u001b[0m\u001b[0;34m\u001b[0m\u001b[0m\n\u001b[0;32m-> 2117\u001b[0;31m                 \u001b[0mresult\u001b[0m \u001b[0;34m=\u001b[0m \u001b[0mfn\u001b[0m\u001b[0;34m(\u001b[0m\u001b[0mmagic_arg_s\u001b[0m\u001b[0;34m,\u001b[0m \u001b[0mcell\u001b[0m\u001b[0;34m)\u001b[0m\u001b[0;34m\u001b[0m\u001b[0;34m\u001b[0m\u001b[0m\n\u001b[0m\u001b[1;32m   2118\u001b[0m             \u001b[0;32mreturn\u001b[0m \u001b[0mresult\u001b[0m\u001b[0;34m\u001b[0m\u001b[0;34m\u001b[0m\u001b[0m\n\u001b[1;32m   2119\u001b[0m \u001b[0;34m\u001b[0m\u001b[0m\n",
      "\u001b[0;32m</home/morooka/.local/lib/python2.7/site-packages/decorator.pyc:decorator-gen-60>\u001b[0m in \u001b[0;36mtime\u001b[0;34m(self, line, cell, local_ns)\u001b[0m\n",
      "\u001b[0;32m/home/morooka/.local/lib/python2.7/site-packages/IPython/core/magic.pyc\u001b[0m in \u001b[0;36m<lambda>\u001b[0;34m(f, *a, **k)\u001b[0m\n\u001b[1;32m    186\u001b[0m     \u001b[0;31m# but it's overkill for just that one bit of state.\u001b[0m\u001b[0;34m\u001b[0m\u001b[0;34m\u001b[0m\u001b[0;34m\u001b[0m\u001b[0m\n\u001b[1;32m    187\u001b[0m     \u001b[0;32mdef\u001b[0m \u001b[0mmagic_deco\u001b[0m\u001b[0;34m(\u001b[0m\u001b[0marg\u001b[0m\u001b[0;34m)\u001b[0m\u001b[0;34m:\u001b[0m\u001b[0;34m\u001b[0m\u001b[0;34m\u001b[0m\u001b[0m\n\u001b[0;32m--> 188\u001b[0;31m         \u001b[0mcall\u001b[0m \u001b[0;34m=\u001b[0m \u001b[0;32mlambda\u001b[0m \u001b[0mf\u001b[0m\u001b[0;34m,\u001b[0m \u001b[0;34m*\u001b[0m\u001b[0ma\u001b[0m\u001b[0;34m,\u001b[0m \u001b[0;34m**\u001b[0m\u001b[0mk\u001b[0m\u001b[0;34m:\u001b[0m \u001b[0mf\u001b[0m\u001b[0;34m(\u001b[0m\u001b[0;34m*\u001b[0m\u001b[0ma\u001b[0m\u001b[0;34m,\u001b[0m \u001b[0;34m**\u001b[0m\u001b[0mk\u001b[0m\u001b[0;34m)\u001b[0m\u001b[0;34m\u001b[0m\u001b[0;34m\u001b[0m\u001b[0m\n\u001b[0m\u001b[1;32m    189\u001b[0m \u001b[0;34m\u001b[0m\u001b[0m\n\u001b[1;32m    190\u001b[0m         \u001b[0;32mif\u001b[0m \u001b[0mcallable\u001b[0m\u001b[0;34m(\u001b[0m\u001b[0marg\u001b[0m\u001b[0;34m)\u001b[0m\u001b[0;34m:\u001b[0m\u001b[0;34m\u001b[0m\u001b[0;34m\u001b[0m\u001b[0m\n",
      "\u001b[0;32m/home/morooka/.local/lib/python2.7/site-packages/IPython/core/magics/execution.pyc\u001b[0m in \u001b[0;36mtime\u001b[0;34m(self, line, cell, local_ns)\u001b[0m\n\u001b[1;32m   1191\u001b[0m         \u001b[0;32melse\u001b[0m\u001b[0;34m:\u001b[0m\u001b[0;34m\u001b[0m\u001b[0;34m\u001b[0m\u001b[0m\n\u001b[1;32m   1192\u001b[0m             \u001b[0mst\u001b[0m \u001b[0;34m=\u001b[0m \u001b[0mclock2\u001b[0m\u001b[0;34m(\u001b[0m\u001b[0;34m)\u001b[0m\u001b[0;34m\u001b[0m\u001b[0;34m\u001b[0m\u001b[0m\n\u001b[0;32m-> 1193\u001b[0;31m             \u001b[0;32mexec\u001b[0m\u001b[0;34m(\u001b[0m\u001b[0mcode\u001b[0m\u001b[0;34m,\u001b[0m \u001b[0mglob\u001b[0m\u001b[0;34m,\u001b[0m \u001b[0mlocal_ns\u001b[0m\u001b[0;34m)\u001b[0m\u001b[0;34m\u001b[0m\u001b[0;34m\u001b[0m\u001b[0m\n\u001b[0m\u001b[1;32m   1194\u001b[0m             \u001b[0mend\u001b[0m \u001b[0;34m=\u001b[0m \u001b[0mclock2\u001b[0m\u001b[0;34m(\u001b[0m\u001b[0;34m)\u001b[0m\u001b[0;34m\u001b[0m\u001b[0;34m\u001b[0m\u001b[0m\n\u001b[1;32m   1195\u001b[0m             \u001b[0mout\u001b[0m \u001b[0;34m=\u001b[0m \u001b[0mNone\u001b[0m\u001b[0;34m\u001b[0m\u001b[0;34m\u001b[0m\u001b[0m\n",
      "\u001b[0;32m<timed exec>\u001b[0m in \u001b[0;36m<module>\u001b[0;34m()\u001b[0m\n",
      "\u001b[0;31mNameError\u001b[0m: name 'kNearestNeighbor' is not defined"
     ]
    }
   ],
   "source": [
    "%%time\n",
    "\n",
    "# Model training and accuracy computation for different k values\n",
    "k_values = [i for i in range(1, 30)]\n",
    "accs_train = []\n",
    "accs_test  = []\n",
    "\n",
    "train_x = img_train[:1000]\n",
    "train_y = label_train[:1000]\n",
    "\n",
    "test_x = img_test[:500]\n",
    "test_y = label_test[:500]\n",
    "\n",
    "for k in k_values:\n",
    "\n",
    "    predictions_train = []\n",
    "    predictions_test = []\n",
    "\n",
    "    predictions_train = kk.kNearestNeighbor(train_x, train_y, train_x, train_y, k)\n",
    "    accs_train.append(accuracy_score(train_y, predictions_train))\n",
    "\n",
    "    predictions_test = kNearestNeighbor(train_x, train_y, test_x, test_y, k)\n",
    "    accs_test.append(accuracy_score(test_y, predictions_test))\n",
    "\n",
    "plt.figure(figsize=(16, 8))\n",
    "\n",
    "print(\"Optimal number for k: \" + str(k_values[np.argmax(accs_test)]))\n",
    "\n",
    "# Draw accuracies as a function of the depth for both trainin and testing sets\n",
    "plt.plot(k_values, accs_train, label = 'Train Accuracy')\n",
    "plt.plot(k_values, accs_test,  label = 'Test Accuracy')\n",
    "plt.ylabel('Accuracy')\n",
    "plt.xlabel('Number of k')\n",
    "plt.legend()\n",
    "plt.xticks(k_values)\n",
    "plt.show()  "
   ]
  },
  {
   "cell_type": "code",
   "execution_count": null,
   "metadata": {},
   "outputs": [],
   "source": []
  },
  {
   "cell_type": "code",
   "execution_count": null,
   "metadata": {},
   "outputs": [],
   "source": []
  }
 ],
 "metadata": {
  "kernelspec": {
   "display_name": "Python 2",
   "language": "python",
   "name": "python2"
  },
  "language_info": {
   "codemirror_mode": {
    "name": "ipython",
    "version": 2
   },
   "file_extension": ".py",
   "mimetype": "text/x-python",
   "name": "python",
   "nbconvert_exporter": "python",
   "pygments_lexer": "ipython2",
   "version": "2.7.15+"
  }
 },
 "nbformat": 4,
 "nbformat_minor": 2
}
