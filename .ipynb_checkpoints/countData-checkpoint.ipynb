{
 "cells": [
  {
   "cell_type": "markdown",
   "metadata": {},
   "source": [
    "# **Letter classification algorithm**"
   ]
  },
  {
   "cell_type": "markdown",
   "metadata": {},
   "source": [
    "# Read database\n",
    "\n",
    "Functions used to read the database (train and test) from MNIST and also from the csv file generated with the images captured from the pico camera"
   ]
  },
  {
   "cell_type": "code",
   "execution_count": 1,
   "metadata": {},
   "outputs": [],
   "source": [
    "import numpy as np"
   ]
  },
  {
   "cell_type": "code",
   "execution_count": 2,
   "metadata": {},
   "outputs": [],
   "source": [
    "def transform_dataset(dataset):\n",
    "    labels = []\n",
    "    letters = []\n",
    "    for row in dataset:\n",
    "        labels.append(row[-1])\n",
    "        letters.append(np.array(row[:-1]))\n",
    "           \n",
    "    return labels, letters      "
   ]
  },
  {
   "cell_type": "code",
   "execution_count": 3,
   "metadata": {},
   "outputs": [
    {
     "name": "stdout",
     "output_type": "stream",
     "text": [
      "Loading Train dataset...\n",
      "Finished loading train dataset!\n",
      "CPU times: user 475 ms, sys: 359 ms, total: 834 ms\n",
      "Wall time: 834 ms\n"
     ]
    }
   ],
   "source": [
    "%%time\n",
    "\n",
    "print(\"Loading Train dataset...\")\n",
    "train_array = np.load('./train.npy')\n",
    "label_train, img_train = transform_dataset(train_array)\n",
    "print(\"Finished loading train dataset!\")"
   ]
  },
  {
   "cell_type": "code",
   "execution_count": 4,
   "metadata": {},
   "outputs": [
    {
     "name": "stdout",
     "output_type": "stream",
     "text": [
      "Loading Test dataset...\n",
      "Finished loading test dataset!\n",
      "CPU times: user 88 ms, sys: 84.3 ms, total: 172 ms\n",
      "Wall time: 171 ms\n"
     ]
    }
   ],
   "source": [
    "%%time\n",
    "\n",
    "print(\"Loading Test dataset...\")\n",
    "test_array = np.load('./test.npy')\n",
    "label_test, img_test = transform_dataset(test_array)\n",
    "print(\"Finished loading test dataset!\")"
   ]
  },
  {
   "cell_type": "code",
   "execution_count": 5,
   "metadata": {},
   "outputs": [
    {
     "name": "stdout",
     "output_type": "stream",
     "text": [
      "Loading Validation dataset...\n",
      "Finished loading validation dataset!\n",
      "CPU times: user 113 ms, sys: 104 ms, total: 217 ms\n",
      "Wall time: 213 ms\n"
     ]
    }
   ],
   "source": [
    "%%time\n",
    "\n",
    "print(\"Loading Validation dataset...\")\n",
    "validation_array = np.load('./validation.npy')\n",
    "label_validation, img_validation = transform_dataset(validation_array)\n",
    "print(\"Finished loading validation dataset!\")"
   ]
  },
  {
   "cell_type": "code",
   "execution_count": null,
   "metadata": {},
   "outputs": [],
   "source": [
    "def count_letter"
   ]
  },
  {
   "cell_type": "code",
   "execution_count": null,
   "metadata": {},
   "outputs": [],
   "source": []
  }
 ],
 "metadata": {
  "kernelspec": {
   "display_name": "Python 2",
   "language": "python",
   "name": "python2"
  },
  "language_info": {
   "codemirror_mode": {
    "name": "ipython",
    "version": 2
   },
   "file_extension": ".py",
   "mimetype": "text/x-python",
   "name": "python",
   "nbconvert_exporter": "python",
   "pygments_lexer": "ipython2",
   "version": "2.7.15+"
  }
 },
 "nbformat": 4,
 "nbformat_minor": 2
}
