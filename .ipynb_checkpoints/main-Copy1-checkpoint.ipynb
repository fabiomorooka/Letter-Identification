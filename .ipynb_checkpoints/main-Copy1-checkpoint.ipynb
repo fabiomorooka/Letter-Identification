{
 "cells": [
  {
   "cell_type": "markdown",
   "metadata": {},
   "source": [
    "# **Letter classification algorithm**"
   ]
  },
  {
   "cell_type": "markdown",
   "metadata": {},
   "source": [
    "## **Introduction**\n",
    "\n",
    "This is the main program that makes different methods of number classification "
   ]
  },
  {
   "cell_type": "markdown",
   "metadata": {},
   "source": [
    "## **Machine Learning Algorithm**\n",
    "\n",
    "This part contains the ML algorithm with different classifiers, firt there are some functions declarations that are used to manipulate the files in the folder."
   ]
  },
  {
   "cell_type": "code",
   "execution_count": 1,
   "metadata": {},
   "outputs": [],
   "source": [
    "import csv\n",
    "import matplotlib.pyplot as plt \n",
    "import numpy as np"
   ]
  },
  {
   "cell_type": "code",
   "execution_count": 2,
   "metadata": {},
   "outputs": [],
   "source": [
    "def read_csv(filename):\n",
    "    labels = []\n",
    "    letters = []\n",
    "    with open(filename, 'r') as csvfile:\n",
    "        spamreader = csv.reader(csvfile, delimiter=',', quotechar='|', quoting=csv.QUOTE_NONNUMERIC) \n",
    "        for row in spamreader:\n",
    "            labels.append(row[-1])\n",
    "            letters.append(np.array(row[:-1]))\n",
    "           \n",
    "    return labels, letters      "
   ]
  },
  {
   "cell_type": "code",
   "execution_count": 3,
   "metadata": {},
   "outputs": [
    {
     "name": "stdout",
     "output_type": "stream",
     "text": [
      "Loading Training dataset...\n",
      "Loading Testing dataset...\n",
      "Finished loading!\n"
     ]
    }
   ],
   "source": [
    "print(\"Loading Training dataset...\")\n",
    "label_train, img_train = read_csv(\"emnist_train.csv\")\n",
    "\n",
    "print(\"Loading Testing dataset...\")\n",
    "label_test, img_test = read_csv(\"emnist_test.csv\")\n",
    "\n",
    "print(\"Finished loading!\")"
   ]
  },
  {
   "cell_type": "code",
   "execution_count": 3,
   "metadata": {},
   "outputs": [],
   "source": [
    "from sklearn.metrics import accuracy_score\n",
    "\n",
    "def test(clf):\n",
    "    # Train on the first 50000 images:\n",
    "    train_x = img_train[:90000]\n",
    "    train_y = label_train[:90000]\n",
    "\n",
    "    clf.fit(train_x, train_y)\n",
    "    \n",
    "    # Test on the next 5000 images:\n",
    "    test_x = img_test[:5000]\n",
    "    expected = [int(i) for i in label_test[0:len(img_test[:5000])]]\n",
    "\n",
    "    predicted = clf.predict(test_x)\n",
    "\n",
    "    print(\"The accuracy is: \" + str(accuracy_score(expected, predicted)))"
   ]
  },
  {
   "cell_type": "code",
   "execution_count": 19,
   "metadata": {},
   "outputs": [
    {
     "name": "stdout",
     "output_type": "stream",
     "text": [
      "Decision Tree model\n",
      "The accuracy is: 0.6818\n"
     ]
    }
   ],
   "source": [
    "from sklearn.tree import DecisionTreeClassifier\n",
    "\n",
    "def DecisionTree():\n",
    "    print(\"Decision Tree model\")\n",
    "    clf = DecisionTreeClassifier(random_state = 0, max_depth = 100)\n",
    "\n",
    "    test(clf)\n",
    "    \n",
    "DecisionTree()"
   ]
  },
  {
   "cell_type": "markdown",
   "metadata": {},
   "source": [
    "# **Model evaluation**\n",
    "\n",
    "## **Tuning parameter and Confusion Matrix**\n",
    "\n",
    "This part contains...\n",
    "This part contains the confusion matrix for each classification to better visualize the results\n"
   ]
  },
  {
   "cell_type": "code",
   "execution_count": 4,
   "metadata": {},
   "outputs": [],
   "source": [
    "import itertools\n",
    "import matplotlib.pyplot as plt\n",
    "\n",
    "def plot_confusion_matrix(cm, classes,title='Confusion matrix',cmap=plt.cm.Blues):\n",
    "    plt.imshow(cm, interpolation='nearest', cmap=cmap)\n",
    "    plt.title(title)\n",
    "    plt.colorbar()\n",
    "    tick_marks = np.arange(len(classes))\n",
    "    plt.xticks(tick_marks, classes, rotation=45)\n",
    "    plt.yticks(tick_marks, classes)\n",
    "\n",
    "    fmt = 'd'\n",
    "    thresh = cm.max() / 2.\n",
    "    for i, j in itertools.product(range(cm.shape[0]), range(cm.shape[1])):\n",
    "        plt.text(j, i, format(cm[i, j], fmt),\n",
    "                 horizontalalignment=\"center\",\n",
    "                 color=\"white\" if cm[i, j] > thresh else \"black\")\n",
    "\n",
    "    plt.ylabel('True label')\n",
    "    plt.xlabel('Predicted label')\n",
    "    plt.tight_layout()"
   ]
  },
  {
   "cell_type": "code",
   "execution_count": null,
   "metadata": {},
   "outputs": [],
   "source": [
    "import matplotlib.pyplot as plt\n",
    "\n",
    "# Model training and accuracy computation for different maximum_depth parameters\n",
    "tree_depth = [i for i in range(2, 30)]\n",
    "accs_train = []\n",
    "accs_test  = []\n",
    "\n",
    "train_x = img_train[:90000]\n",
    "train_y = label_train[:90000]\n",
    "\n",
    "test_x = img_test[:2500]\n",
    "test_y = label_test[:2500]\n",
    "\n",
    "for depth in tree_depth:\n",
    "    clf = DecisionTreeClassifier(random_state = 0, max_depth = depth)\n",
    "    clf.fit(train_x, train_y)\n",
    "    accs_train.append(clf.score(train_x, train_y))\n",
    "    accs_test.append(clf.score(test_x, test_y))\n",
    "plt.figure(figsize=(16, 8))\n",
    "\n",
    "print(\"Tree depth: \" + str(tree_depth[np.argmax(accs_test)]))\n",
    "\n",
    "# Draw accuracies as a function of the depth for both trainin and testing sets\n",
    "plt.plot(tree_depth, accs_train, label = 'Train Accuracy')\n",
    "plt.plot(tree_depth, accs_test,  label = 'Test Accuracy')\n",
    "plt.ylabel('Accuracy')\n",
    "plt.xlabel('Tree Depth')\n",
    "plt.legend()\n",
    "plt.xticks(tree_depth)\n",
    "plt.show()  "
   ]
  },
  {
   "cell_type": "code",
   "execution_count": null,
   "metadata": {},
   "outputs": [],
   "source": [
    "from sklearn.metrics import confusion_matrix\n",
    "\n",
    "class_names = ['1', '2', '3', '4', '5', '6', '7', '8', '9', '10', '11', '12', '13', '14', '15', '16', '17', '18', '19', '20', '21', '22', '23', '24', '25', '26'] \n",
    "plt.figure(figsize=(12,6))\n",
    "\n",
    "Ypred_train = clf.predict(train_x)\n",
    "Ypred_test = clf.predict(test_x)\n",
    "\n",
    "'''\n",
    "# Computation of confusion matrix on training set\n",
    "cm = confusion_matrix(train_y, Ypred_train)\n",
    "plt.subplot(121)\n",
    "plot_confusion_matrix(cm, classes=class_names,title='Confusion matrix, Training Set')\n",
    "'''\n",
    "\n",
    "'''\n",
    "# Computation of confusion matrix on testing set\n",
    "cm = confusion_matrix(test_y, Ypred_test)\n",
    "plt.subplot(121)\n",
    "plot_confusion_matrix(cm, classes=class_names,title='Confusion matrix, Testing Set')\n",
    "plt.show()\n",
    "'''\n",
    "\n",
    "# Computation of confusion matrix on testing set\n",
    "cm = confusion_matrix(test_y, Ypred_test)\n",
    "#plt.subplot(122)\n",
    "plot_confusion_matrix(cm, classes=class_names,title='Confusion matrix, Testing Set 2')\n",
    "plt.show()"
   ]
  },
  {
   "cell_type": "code",
   "execution_count": null,
   "metadata": {},
   "outputs": [],
   "source": []
  },
  {
   "cell_type": "code",
   "execution_count": null,
   "metadata": {},
   "outputs": [],
   "source": []
  },
  {
   "cell_type": "code",
   "execution_count": null,
   "metadata": {},
   "outputs": [],
   "source": []
  },
  {
   "cell_type": "markdown",
   "metadata": {},
   "source": [
    "## **K-Nearest Neighbours algorithm created**\n",
    "\n",
    "This section is presented the algorithme developped."
   ]
  },
  {
   "cell_type": "code",
   "execution_count": 4,
   "metadata": {},
   "outputs": [],
   "source": [
    "def trainModel(train_x, train_y):\n",
    "    # do nothing \n",
    "    return"
   ]
  },
  {
   "cell_type": "code",
   "execution_count": 10,
   "metadata": {},
   "outputs": [],
   "source": [
    "import collections\n",
    "\n",
    "def predict(train_x, train_y, test_x, k):\n",
    "    # create list for distances and targets\n",
    "    distances = []\n",
    "    targets = []\n",
    "\n",
    "    for i in range(len(train_x)):\n",
    "        # first we compute the euclidean distance\n",
    "        distance = np.sqrt(np.sum(np.square(test_x - train_x[i])))\n",
    "        # add it to list of distances\n",
    "        distances.append([distance, i])\n",
    "\n",
    "    # sort the list\n",
    "    distances = sorted(distances)\n",
    "\n",
    "    # make a list of the k neighbors' targets\n",
    "    for i in range(k):\n",
    "        index = distances[i][1]\n",
    "        #print(y_train[index])\n",
    "        targets.append(train_y[index])\n",
    "\n",
    "    # return most common target\n",
    "    return collections.Counter(targets).most_common(1)[0][0]"
   ]
  },
  {
   "cell_type": "code",
   "execution_count": 11,
   "metadata": {},
   "outputs": [],
   "source": [
    "# K-Nearest Neighbours algorithm\n",
    "\n",
    "# train_x\n",
    "# train_y\n",
    "# test_x\n",
    "# test_y\n",
    "# predictions\n",
    "# k\n",
    "def kNearestNeighbor(train_x, train_y, test_x, test_y, predictions, k):\n",
    "    # check if k is not larger than n\n",
    "    if k > len(train_x):\n",
    "        raise ValueError\n",
    "    \n",
    "    # train on the input data\n",
    "    trainModel(train_x, train_y)\n",
    "\n",
    "    # predict for each testing observation\n",
    "    for i in range(len(test_x)):\n",
    "        #predictions.append(predict(train_x, train_y, test_x[i, :], k))\n",
    "        predictions.append(predict(train_x, train_y, test_x[i], k))"
   ]
  },
  {
   "cell_type": "code",
   "execution_count": 8,
   "metadata": {},
   "outputs": [
    {
     "name": "stdout",
     "output_type": "stream",
     "text": [
      "\n",
      "The accuracy of OUR classifier is 42%\n",
      "CPU times: user 115 ms, sys: 3.98 ms, total: 119 ms\n",
      "Wall time: 120 ms\n"
     ]
    }
   ],
   "source": [
    "%%time\n",
    "\n",
    "from sklearn.metrics import accuracy_score\n",
    "import kk\n",
    "\n",
    "train_x = img_train[:200]\n",
    "train_y = label_train[:200]\n",
    "\n",
    "test_x = img_test[:50]\n",
    "test_y = label_test[:50]\n",
    "\n",
    "predictions = kk.kNearestNeighbor(train_x, train_y, test_x, test_y, 7)\n",
    "\n",
    "# evaluating accuracy\n",
    "accuracy = accuracy_score(test_y, predictions) * 100\n",
    "print('\\nThe accuracy of OUR classifier is %d%%' % accuracy)\n"
   ]
  },
  {
   "cell_type": "code",
   "execution_count": 9,
   "metadata": {},
   "outputs": [
    {
     "data": {
      "image/png": "[encoded data removed]",
      "text/plain": [
       "<Figure size 864x432 with 2 Axes>"
      ]
     },
     "metadata": {
      "needs_background": "light"
     },
     "output_type": "display_data"
    }
   ],
   "source": [
    "from sklearn.metrics import confusion_matrix\n",
    "\n",
    "class_names = ['1', '2', '3', '4', '5', '6', '7', '8', '9', '10', '11', '12', '13', '14', '15', '16', '17', '18', '19', '20', '21', '22', '23', '24', '25', '26'] \n",
    "plt.figure(figsize=(12,6))\n",
    "\n",
    "# Computation of confusion matrix on testing set\n",
    "cm = confusion_matrix(test_y, predictions)\n",
    "#plt.subplot(122)\n",
    "plot_confusion_matrix(cm, classes=class_names,title='Confusion matrix, Testing Set 2')\n",
    "plt.show()"
   ]
  },
  {
   "cell_type": "code",
   "execution_count": 39,
   "metadata": {},
   "outputs": [
    {
     "name": "stdout",
     "output_type": "stream",
     "text": [
      "Optimal number for k: 1\n"
     ]
    },
    {
     "data": {
      "text/plain": [
       "<Figure size 1152x576 with 0 Axes>"
      ]
     },
     "metadata": {},
     "output_type": "display_data"
    },
    {
     "data": {
      "image/png": "[encoded data removed]",
      "text/plain": [
       "<Figure size 1152x576 with 1 Axes>"
      ]
     },
     "metadata": {
      "needs_background": "light"
     },
     "output_type": "display_data"
    },
    {
     "name": "stdout",
     "output_type": "stream",
     "text": [
      "Wall time: 2min 2s\n"
     ]
    }
   ],
   "source": [
    "%%time\n",
    "\n",
    "import matplotlib.pyplot as plt\n",
    "from sklearn.neighbors import KNeighborsClassifier\n",
    "\n",
    "# Model training and accuracy computation for different k values\n",
    "k_values = [i for i in range(1, 30)]\n",
    "accs_train = []\n",
    "accs_test  = []\n",
    "\n",
    "train_x = img_train[:1000]\n",
    "train_y = label_train[:1000]\n",
    "\n",
    "test_x = img_test[:500]\n",
    "test_y = label_test[:500]\n",
    "\n",
    "'''\n",
    "for k in k_values:\n",
    "    clf = KNeighborsClassifier(n_neighbors = k) \n",
    "    clf.fit(train_x, train_y)\n",
    "    accs_train.append(clf.score(train_x, train_y))\n",
    "    accs_test.append(clf.score(test_x, test_y))\n",
    "plt.figure(figsize=(16, 8))\n",
    "\n",
    "\n",
    "'''\n",
    "for k in k_values:\n",
    "\n",
    "    predictions_train = []\n",
    "    predictions_test = []\n",
    "\n",
    "    kNearestNeighbor(train_x, train_y, train_x, train_y, predictions_train, k)\n",
    "    accs_train.append(accuracy_score(train_y, predictions_train))\n",
    "\n",
    "    kNearestNeighbor(train_x, train_y, test_x, test_y, predictions_test, k)\n",
    "    accs_test.append(accuracy_score(test_y, predictions_test))\n",
    "\n",
    "\n",
    "plt.figure(figsize=(16, 8))\n",
    "\n",
    "\n",
    "print(\"Optimal number for k: \" + str(k_values[np.argmax(accs_test)]))\n",
    "\n",
    "# Draw accuracies as a function of the depth for both trainin and testing sets\n",
    "plt.plot(k_values, accs_train, label = 'Train Accuracy')\n",
    "plt.plot(k_values, accs_test,  label = 'Test Accuracy')\n",
    "plt.ylabel('Accuracy')\n",
    "plt.xlabel('Number of k')\n",
    "plt.legend()\n",
    "plt.xticks(k_values)\n",
    "plt.show()  "
   ]
  },
  {
   "cell_type": "code",
   "execution_count": null,
   "metadata": {},
   "outputs": [],
   "source": []
  },
  {
   "cell_type": "code",
   "execution_count": null,
   "metadata": {},
   "outputs": [],
   "source": []
  }
 ],
 "metadata": {
  "kernelspec": {
   "display_name": "Python 2",
   "language": "python",
   "name": "python2"
  },
  "language_info": {
   "codemirror_mode": {
    "name": "ipython",
    "version": 2
   },
   "file_extension": ".py",
   "mimetype": "text/x-python",
   "name": "python",
   "nbconvert_exporter": "python",
   "pygments_lexer": "ipython2",
   "version": "2.7.15+"
  }
 },
 "nbformat": 4,
 "nbformat_minor": 2
}
